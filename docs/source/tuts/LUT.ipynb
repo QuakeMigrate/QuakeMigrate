{
 "cells": [
  {
   "cell_type": "markdown",
   "metadata": {},
   "source": [
    "# The traveltime lookup table\n",
    "\n",
    "This tutorial will cover the basic ideas and definitions behind the traveltime lookup table, as well as showing the user how to create their own.\n",
    "\n",
    "***\n",
    "\n",
    "## Contents\n",
    "* [Defining the underlying 3-D grid](#Defining-the-underlying-3-D-grid)\n",
    "* [Creating a LUT](#Creating-an-instance-of-the-LUT-class)\n",
    "* [Computing traveltimes](#Computing-traveltimes)\n",
    "\n",
    "***\n",
    "\n",
    "In order to reduce computational costs during runtime, we pre-compute traveltime\n",
    "lookup tables (LUTs). These LUTs contain P- and S-phase traveltimes for each station in the\n",
    "network to every point in a 3-D grid. This grid spans the volume of interest, herein termed\n",
    "the coalescence volume, within which QuakeMigrate will search for events."
   ]
  },
  {
   "cell_type": "markdown",
   "metadata": {},
   "source": [
    "## Defining the underlying 3-D grid\n",
    "\n",
    "Before we can create our traveltime lookup table, we have to define the underlying 3-D grid which spans the volume of interest."
   ]
  },
  {
   "cell_type": "markdown",
   "metadata": {},
   "source": [
    "### Coordinate projections\n",
    "\n",
    "First, we choose a pair of projections to represent the input coordinate space and the Cartesian grid space. We do this using the Python interface with the PROJ library, pyproj. It is important to think about which projection is best suited to your particular study region. \n",
    "\n",
    "We use here the WGS84 reference ellipsoid (used as standard by the Global Positioning System) as our input space and the Lambert Conformal Conic projection to form our Cartesian space. The units of the Cartesian space are specified as metres. The values used in the LCC projection are for a study region in northern Borneo."
   ]
  },
  {
   "cell_type": "code",
   "execution_count": null,
   "metadata": {},
   "outputs": [],
   "source": [
    "from pyproj import Proj\n",
    "\n",
    "cproj = Proj(\"+proj=longlat +ellps=WGS84 +datum=WGS84 +no_defs\")\n",
    "gproj = Proj(\"+proj=lcc +lon_0=116.75 +lat_0=6.25 +lat_1=4.0 +lat_2=7.5 +datum=WGS84 +units=m +no_defs\") "
   ]
  },
  {
   "cell_type": "markdown",
   "metadata": {},
   "source": [
    "### Geographical location and spatial extent\n",
    "\n",
    "In order to geographically situate our lookup table, we define two points, herein called the lower-left and upper-right corners. By default, we work in a depth-positive frame (i.e. positive down or left-handed coordinate system) and use metres. It is in theory possible to run QuakeMigrate with distances measured in kilometres, as long as the user specifies this requirement when defining the grid projection.\n",
    "\n",
    "This schematic shows the relative positioning of the two corners:\n",
    "\n",
    "![title](img/LUT_definition.png)\n",
    "\n",
    "The final piece of information required to fully define the grid on which we will calculate traveltimes is the size (in each dimension, x, y, z) of a cell. The LUT class will automatically find the number of cells required in each dimension to span the specified geographical region. If a cell dimension doesn't fit into the corresponding grid dimension an integer number of times, the location of the upper-right corner is shifted to accommodate an additional cell."
   ]
  },
  {
   "cell_type": "code",
   "execution_count": null,
   "metadata": {},
   "outputs": [],
   "source": [
    "ll_corner = [116.075, 5.573, -1750]\n",
    "ur_corner = [117.426, 6.925, 27750]\n",
    "cell_size = [500., 500., 500.]"
   ]
  },
  {
   "cell_type": "markdown",
   "metadata": {},
   "source": [
    "## Creating an instance of the LUT class\n",
    "\n",
    "We are now ready to create an instance of the LUT class, which we can then populate with traveltimes. We import the LUT module, which contains two submodules: lut.py, which contains the LUT class definition; and create_lut.py, which contains a suite of utility functions to compute traveltimes and populate a LUT object."
   ]
  },
  {
   "cell_type": "code",
   "execution_count": null,
   "metadata": {},
   "outputs": [],
   "source": [
    "import QMigrate.lut as qlut\n",
    "\n",
    "# --- Create a new LUT ---\n",
    "lut = qlut.LUT(ll_corner=ll_corner,\n",
    "               ur_corner=ur_corner,\n",
    "               cell_size=cell_size,\n",
    "               grid_proj=gproj,\n",
    "               coord_proj=cproj)"
   ]
  },
  {
   "cell_type": "markdown",
   "metadata": {},
   "source": [
    "## Computing traveltimes\n",
    "\n",
    "We have bundled a few methods of computing traveltimes into QuakeMigrate.\n",
    "\n",
    "In all cases we will make use of the I/O module, so let's import that first:"
   ]
  },
  {
   "cell_type": "code",
   "execution_count": null,
   "metadata": {},
   "outputs": [],
   "source": [
    "import QMigrate.io as qio\n",
    "\n",
    "#stations = qio.stations(\"/path/to/station_file\")"
   ]
  },
  {
   "cell_type": "markdown",
   "metadata": {},
   "source": [
    "### Homogeneous velocity model\n",
    "Simply calculates the straight line traveltimes between stations and points in the grid."
   ]
  },
  {
   "cell_type": "code",
   "execution_count": null,
   "metadata": {},
   "outputs": [],
   "source": [
    "# --- Homogeneous LUT generation ---\n",
    "#qlut.compute(lut, stations, method=\"homogeneous\", vp=5000., vs=3000.)"
   ]
  },
  {
   "cell_type": "markdown",
   "metadata": {},
   "source": [
    "### Fast-marching method\n",
    "The fast-marching method implicitly tracks the evolution of the wavefront. See Rawlinson & Sambridge (2005) for more details."
   ]
  },
  {
   "cell_type": "code",
   "execution_count": null,
   "metadata": {},
   "outputs": [],
   "source": [
    "# --- skfmm LUT generation ---\n",
    "#vmod = qio.read_vmodel(\"/path/to/vmodel_file\")\n",
    "#qlut.compute(lut, stations, method=\"1dfmm\", vmod=vmod)"
   ]
  },
  {
   "cell_type": "markdown",
   "metadata": {},
   "source": [
    "### NonLinLoc style 2-D sweep\n",
    "Uses the Eikonal solver from NonLinLoc under the hood to generate a traveltime grid for the 2-D slice that passes through the station and the point in the grid furthest away from that station. This slice is then \"swept\" using a bilinear interpolation scheme to produce a 3-D traveltime grid. This has the benefit of being able to include stations outside of the volume of interest, without having to increase the size of the grid."
   ]
  },
  {
   "cell_type": "code",
   "execution_count": null,
   "metadata": {},
   "outputs": [],
   "source": [
    "# --- NLLoc sweep LUT generation ---\n",
    "#vmod = qio.read_vmodel(\"/path/to/vmodel_file\")\n",
    "#qlut.compute(lut, stations, method=\"1dsweep\", vmod=vmod, block_model=True)"
   ]
  },
  {
   "cell_type": "markdown",
   "metadata": {},
   "source": [
    "### Other formats\n",
    "It is also easy to import traveltime lookup tables generated by other means. We have provided a parser for lookup tables in the NonLinLoc format (`qlut.read_nlloc()`). It is straightforward to adapt this code to read any other traveltime lookup table, so long as it is stored as an array. Create an instance of the LUT class with the correct grid dimensions, then add the traveltime arrays (in C-order) to the _maps_ dictionary.\n",
    "\n",
    "Finally, save the lookup table to a file. We pickle the object by default."
   ]
  },
  {
   "cell_type": "code",
   "execution_count": null,
   "metadata": {},
   "outputs": [],
   "source": [
    "# --- Save LUT ---\n",
    "#lut.save(\"/path/to/output/lut\")"
   ]
  }
 ],
 "metadata": {
  "kernelspec": {
   "display_name": "Python 3",
   "language": "python",
   "name": "python3"
  },
  "language_info": {
   "codemirror_mode": {
    "name": "ipython",
    "version": 3
   },
   "file_extension": ".py",
   "mimetype": "text/x-python",
   "name": "python",
   "nbconvert_exporter": "python",
   "pygments_lexer": "ipython3",
   "version": "3.7.3"
  }
 },
 "nbformat": 4,
 "nbformat_minor": 2
}
