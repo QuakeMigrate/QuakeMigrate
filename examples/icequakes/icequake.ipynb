{
 "cells": [
  {
   "cell_type": "markdown",
   "metadata": {},
   "source": [
    "# QuakeMigrate - Example - Icequake detection"
   ]
  },
  {
   "cell_type": "markdown",
   "metadata": {},
   "source": [
    "## Overview:"
   ]
  },
  {
   "cell_type": "markdown",
   "metadata": {},
   "source": [
    "This notebook shows how to run QuakeMigrate for icequake detection, using a 2 minute window of continuous seismicity from Hudson et al (2019). Please refer to this paper for details and justification of the settings used.\n",
    "\n",
    "Here, we detail how to:\n",
    "1. Create a travel-times lookup table for the example seismometer network\n",
    "2. Run the detect stage to coalesce energy through time\n",
    "3. Run the trigger stage to determine events above a threshold value\n",
    "4. Run the locate stage to refine the earthquake location\n",
    "\n",
    "We also provide an outline of some of the key outputs"
   ]
  },
  {
   "cell_type": "code",
   "execution_count": 3,
   "metadata": {},
   "outputs": [
    {
     "ename": "ModuleNotFoundError",
     "evalue": "No module named 'QMigrate'",
     "output_type": "error",
     "traceback": [
      "\u001b[0;31m---------------------------------------------------------------------------\u001b[0m",
      "\u001b[0;31mModuleNotFoundError\u001b[0m                       Traceback (most recent call last)",
      "\u001b[0;32m<ipython-input-3-03e230cb0760>\u001b[0m in \u001b[0;36m<module>\u001b[0;34m\u001b[0m\n\u001b[1;32m      1\u001b[0m \u001b[0;31m# Import necessary modules:\u001b[0m\u001b[0;34m\u001b[0m\u001b[0;34m\u001b[0m\u001b[0;34m\u001b[0m\u001b[0m\n\u001b[0;32m----> 2\u001b[0;31m \u001b[0;32mimport\u001b[0m \u001b[0mQMigrate\u001b[0m\u001b[0;34m.\u001b[0m\u001b[0mcore\u001b[0m\u001b[0;34m.\u001b[0m\u001b[0mmodel\u001b[0m \u001b[0;32mas\u001b[0m \u001b[0mcmod\u001b[0m\u001b[0;34m\u001b[0m\u001b[0;34m\u001b[0m\u001b[0m\n\u001b[0m\u001b[1;32m      3\u001b[0m \u001b[0;32mimport\u001b[0m \u001b[0mQMigrate\u001b[0m\u001b[0;34m.\u001b[0m\u001b[0msignal\u001b[0m\u001b[0;34m.\u001b[0m\u001b[0mscan\u001b[0m \u001b[0;32mas\u001b[0m \u001b[0mcscan\u001b[0m\u001b[0;34m\u001b[0m\u001b[0;34m\u001b[0m\u001b[0m\n\u001b[1;32m      4\u001b[0m \u001b[0;32mimport\u001b[0m \u001b[0mQMigrate\u001b[0m\u001b[0;34m.\u001b[0m\u001b[0mio\u001b[0m\u001b[0;34m.\u001b[0m\u001b[0mmseed\u001b[0m \u001b[0;32mas\u001b[0m \u001b[0mcmseed\u001b[0m\u001b[0;34m\u001b[0m\u001b[0;34m\u001b[0m\u001b[0m\n",
      "\u001b[0;31mModuleNotFoundError\u001b[0m: No module named 'QMigrate'"
     ]
    }
   ],
   "source": [
    "# Import necessary modules:\n",
    "import QMigrate.core.model as cmod\n",
    "import QMigrate.signal.scan as cscan\n",
    "import QMigrate.io.mseed as cmseed"
   ]
  },
  {
   "cell_type": "code",
   "execution_count": null,
   "metadata": {},
   "outputs": [],
   "source": [
    "# Set i/o paths:\n",
    "stat_in = \"./inputs/stations.txt\"\n",
    "data_in = \"./inputs/mSEED\"\n",
    "lut_out = \"./outputs/lut/icequake.LUT\"\n",
    "output  = \"./outputs/runs/icequake\""
   ]
  },
  {
   "cell_type": "markdown",
   "metadata": {},
   "source": [
    "## 1. Create a travel-times lookup table (LUT)"
   ]
  },
  {
   "cell_type": "code",
   "execution_count": 7,
   "metadata": {
    "collapsed": true
   },
   "outputs": [],
   "source": [
    "# Set the parameters for the travel-times lookup table (LUT)\n",
    "# Cell count (x,y,z); cell size (x,y,z in metres)\n",
    "lut = cmod.LUT(cell_count=[20, 20, 140], cell_size=[100, 100, 20])\n",
    "lut.lonlat_centre(-17.224, 64.328)\n",
    "\n",
    "# Set the LUT projection (here we use the Lambert Conformal Conic projection)\n",
    "lut.lcc_standard_parallels = (64.32, 64.335)\n",
    "lut.projections(grid_proj=\"LCC\")\n",
    "\n",
    "# Add stations to LUT\n",
    "lut.stations(path=stat_in, units=\"lat_lon_elev\")\n",
    "\n",
    "# Compute for a homogeneous velocity model\n",
    "v_p_homo_model = 3630\n",
    "v_s_homo_model = 1833\n",
    "lut.compute_homogeneous_vmodel(v_p_homo_model, v_s_homo_model)\n",
    "\n",
    "# Save the LUT\n",
    "lut.save(lut_out)"
   ]
  },
  {
   "cell_type": "markdown",
   "metadata": {},
   "source": [
    "## 2. Coalesce the seismic energy through time"
   ]
  },
  {
   "cell_type": "code",
   "execution_count": 11,
   "metadata": {},
   "outputs": [
    {
     "name": "stdout",
     "output_type": "stream",
     "text": [
      "Path = 'SeisLoc_outputs/RUNS/Icequake', Name = 'Icequake_example'\n"
     ]
    }
   ],
   "source": [
    "# Create a new instance of the MSEED class and set path structure\n",
    "data = cmseed.MSEED(lut_out, HOST_PATH=data_in)\n",
    "data.path_structure(path_type=\"YEAR/JD/STATION\")\n",
    "\n",
    "# Create a new instance of the SeisScan class\n",
    "scn = cscan.SeisScan(data, lut_out, output_path=output, output_name=\"icequake_example\")"
   ]
  },
  {
   "cell_type": "code",
   "execution_count": null,
   "metadata": {},
   "outputs": [],
   "source": [
    "# Set detect parameters\n",
    "scn.sampling_rate = 500           # Sampling rate of data, in Hz\n",
    "scn.p_bp_filter   = [10, 125, 4]  # The band-pass filter parameters for the P-phase (10 to 125 Hz, with 4th order corners)\n",
    "scn.s_bp_filter   = [10, 125, 4]  # The band-pass filter parameters for the P-phase (10 to 125 Hz, with 4th order corners)\n",
    "scn.p_onset_win   = [0.01, 0.25]  # Length of the STA and LTA time windows for the P-phase\n",
    "scn.s_onset_win   = [0.05, 0.5]   # Length of the STA and LTA time windows for the S-phase\n",
    "scn.time_step     = 0.75          # The length of the time-step\n",
    "scn.decimate      = [1,1,1]       # Decimation factors in x,y,z (no decimation here)\n",
    "scn.n_cores       = 12            # Number of cores/processors to use\n",
    "\n",
    "# Defining the start and end times \n",
    "starttime = \"2014-06-29T18:41:55.0\"\n",
    "endtime   = \"2014-06-29T18:42:20.0\""
   ]
  },
  {
   "cell_type": "code",
   "execution_count": 13,
   "metadata": {},
   "outputs": [
    {
     "name": "stdout",
     "output_type": "stream",
     "text": [
      "==============================================================================================================================\n",
      "   SeisLoc - Coalescence Scanning : PATH:SeisLoc_outputs/RUNS/Icequake - NAME:Icequake_example\n",
      "======================================================================\n",
      "   Continious Seismic Processing for 2014-06-29T18:41:55.000000 to 2014-06-29T18:42:20.000000\n",
      "==============================================================================================================================\n",
      "~~~~~~~~~~~~~ Processing - 2014-06-29T18:41:54.350000 to 2014-06-29T18:41:57.750000 ~~~~~~~~~~~~~\n",
      "~~~~~~~~~~~~~ Processing - 2014-06-29T18:41:55.100000 to 2014-06-29T18:41:58.500000 ~~~~~~~~~~~~~\n",
      "~~~~~~~~~~~~~ Processing - 2014-06-29T18:41:55.850000 to 2014-06-29T18:41:59.250000 ~~~~~~~~~~~~~\n",
      "~~~~~~~~~~~~~ Processing - 2014-06-29T18:41:56.600000 to 2014-06-29T18:42:00.000000 ~~~~~~~~~~~~~\n",
      "~~~~~~~~~~~~~ Processing - 2014-06-29T18:41:57.350000 to 2014-06-29T18:42:00.750000 ~~~~~~~~~~~~~\n",
      "~~~~~~~~~~~~~ Processing - 2014-06-29T18:41:58.100000 to 2014-06-29T18:42:01.500000 ~~~~~~~~~~~~~\n",
      "~~~~~~~~~~~~~ Processing - 2014-06-29T18:41:58.850000 to 2014-06-29T18:42:02.250000 ~~~~~~~~~~~~~\n",
      "~~~~~~~~~~~~~ Processing - 2014-06-29T18:41:59.600000 to 2014-06-29T18:42:03.000000 ~~~~~~~~~~~~~\n",
      "~~~~~~~~~~~~~ Processing - 2014-06-29T18:42:00.350000 to 2014-06-29T18:42:03.750000 ~~~~~~~~~~~~~\n",
      "~~~~~~~~~~~~~ Processing - 2014-06-29T18:42:01.100000 to 2014-06-29T18:42:04.500000 ~~~~~~~~~~~~~\n",
      "~~~~~~~~~~~~~ Processing - 2014-06-29T18:42:01.850000 to 2014-06-29T18:42:05.250000 ~~~~~~~~~~~~~\n",
      "~~~~~~~~~~~~~ Processing - 2014-06-29T18:42:02.600000 to 2014-06-29T18:42:06.000000 ~~~~~~~~~~~~~\n",
      "~~~~~~~~~~~~~ Processing - 2014-06-29T18:42:03.350000 to 2014-06-29T18:42:06.750000 ~~~~~~~~~~~~~\n",
      "~~~~~~~~~~~~~ Processing - 2014-06-29T18:42:04.100000 to 2014-06-29T18:42:07.500000 ~~~~~~~~~~~~~\n",
      "~~~~~~~~~~~~~ Processing - 2014-06-29T18:42:04.850000 to 2014-06-29T18:42:08.250000 ~~~~~~~~~~~~~\n",
      "~~~~~~~~~~~~~ Processing - 2014-06-29T18:42:05.600000 to 2014-06-29T18:42:09.000000 ~~~~~~~~~~~~~\n",
      "~~~~~~~~~~~~~ Processing - 2014-06-29T18:42:06.350000 to 2014-06-29T18:42:09.750000 ~~~~~~~~~~~~~\n",
      "~~~~~~~~~~~~~ Processing - 2014-06-29T18:42:07.100000 to 2014-06-29T18:42:10.500000 ~~~~~~~~~~~~~\n",
      "~~~~~~~~~~~~~ Processing - 2014-06-29T18:42:07.850000 to 2014-06-29T18:42:11.250000 ~~~~~~~~~~~~~\n",
      "~~~~~~~~~~~~~ Processing - 2014-06-29T18:42:08.600000 to 2014-06-29T18:42:12.000000 ~~~~~~~~~~~~~\n",
      "~~~~~~~~~~~~~ Processing - 2014-06-29T18:42:09.350000 to 2014-06-29T18:42:12.750000 ~~~~~~~~~~~~~\n",
      "~~~~~~~~~~~~~ Processing - 2014-06-29T18:42:10.100000 to 2014-06-29T18:42:13.500000 ~~~~~~~~~~~~~\n",
      "~~~~~~~~~~~~~ Processing - 2014-06-29T18:42:10.850000 to 2014-06-29T18:42:14.250000 ~~~~~~~~~~~~~\n",
      "~~~~~~~~~~~~~ Processing - 2014-06-29T18:42:11.600000 to 2014-06-29T18:42:15.000000 ~~~~~~~~~~~~~\n",
      "~~~~~~~~~~~~~ Processing - 2014-06-29T18:42:12.350000 to 2014-06-29T18:42:15.750000 ~~~~~~~~~~~~~\n",
      "~~~~~~~~~~~~~ Processing - 2014-06-29T18:42:13.100000 to 2014-06-29T18:42:16.500000 ~~~~~~~~~~~~~\n",
      "~~~~~~~~~~~~~ Processing - 2014-06-29T18:42:13.850000 to 2014-06-29T18:42:17.250000 ~~~~~~~~~~~~~\n",
      "~~~~~~~~~~~~~ Processing - 2014-06-29T18:42:14.600000 to 2014-06-29T18:42:18.000000 ~~~~~~~~~~~~~\n",
      "~~~~~~~~~~~~~ Processing - 2014-06-29T18:42:15.350000 to 2014-06-29T18:42:18.750000 ~~~~~~~~~~~~~\n",
      "~~~~~~~~~~~~~ Processing - 2014-06-29T18:42:16.100000 to 2014-06-29T18:42:19.500000 ~~~~~~~~~~~~~\n",
      "~~~~~~~~~~~~~ Processing - 2014-06-29T18:42:16.850000 to 2014-06-29T18:42:20.250000 ~~~~~~~~~~~~~\n",
      "~~~~~~~~~~~~~ Processing - 2014-06-29T18:42:17.600000 to 2014-06-29T18:42:21.000000 ~~~~~~~~~~~~~\n",
      "~~~~~~~~~~~~~ Processing - 2014-06-29T18:42:18.350000 to 2014-06-29T18:42:21.750000 ~~~~~~~~~~~~~\n"
     ]
    }
   ],
   "source": [
    "# Run the detect stage to find the coalescence of energy through time:\n",
    "scn.detect(starttime, endtime)"
   ]
  },
  {
   "cell_type": "markdown",
   "metadata": {},
   "source": [
    "## 3. Run the trigger stage, to detect and output individual icequakes\n",
    "\n",
    "nb: We can use the same SeisScan object here because we are not using a different decimation. If running trigger and locate on grids with different levels of decimation, a new SeisScan object must be initialised."
   ]
  },
  {
   "cell_type": "code",
   "execution_count": 15,
   "metadata": {
    "collapsed": true
   },
   "outputs": [],
   "source": [
    "# Set trigger parameters:\n",
    "scn.detection_threshold   = 1.5   # SNR threshold for the coalescence through time. Will detect an event if the coalescence goes above this for a given timestep\n",
    "scn.marginal_window       = 2.75  # The length of the time-step window, + pre and post padding (i.e. 0.75 sec time-step window + 1s padding either side)\n",
    "scn.minimum_repeat        = 5.0\n",
    "scn.normalise_coalescence = True\n",
    "\n",
    "# Turn on plotting features\n",
    "scn.plot_coal_video      = False\n",
    "scn.plot_coal_grid       = False\n",
    "scn.plot_coal_picture    = True\n",
    "scn.plot_coal_trace      = False"
   ]
  },
  {
   "cell_type": "code",
   "execution_count": 16,
   "metadata": {},
   "outputs": [
    {
     "name": "stdout",
     "output_type": "stream",
     "text": [
      "SeisLoc_outputs/RUNS/Icequake/Icequake_example.scn\n",
      "--Processing for Event 1 of 1 - 20140629184210336\n",
      "Elapsed time: 3.108747 seconds.\n",
      "\n",
      "Elapsed time: 3.130824 seconds.\n",
      "\n",
      "Creating Seismic Picture\n",
      "Elapsed time: 2.098314 seconds.\n",
      "\n"
     ]
    }
   ],
   "source": [
    "# Run the trigger stage to find any events\n",
    "scn.trigger(starttime, endtime)\n",
    "\n",
    "# Run the locate stage to determine the location of any triggered events\n",
    "scn.locate(starttime, endtime)"
   ]
  },
  {
   "cell_type": "markdown",
   "metadata": {},
   "source": [
    "## 4. Some of the key outputs"
   ]
  },
  {
   "cell_type": "code",
   "execution_count": 21,
   "metadata": {},
   "outputs": [
    {
     "name": "stdout",
     "output_type": "stream",
     "text": [
      "DT,COA,X,Y,Z,Gaussian_X,Gaussian_Y,Gaussian_Z,Gaussian_ErrX,Gaussian_ErrY,Gaussian_ErrZ,Covariance_X,Covariance_Y,Covariance_Z,Covariance_ErrX,Covariance_ErrY,Covariance_ErrZ\n",
      "\n",
      "2014-06-29 18:42:10.336,1.7339595976510833,-17.222986628219758,64.33023353261483,509.0,-17.222204313905074,64.33008195752763,517.1397962042175,4.869102842007661,6.528671375764944,3.3814495136040805,-17.22153468322658,64.33009261928694,502.62342969754235,91.2981010791098,74.24957087823364,88.3461566409338\n",
      "\n"
     ]
    }
   ],
   "source": [
    "# Show the .event file, containing event origin time and location:\n",
    "icequake_event_fname = \"outputs/runs/icequake/icequake_example_20140629184210336.event\"\n",
    "with open(icequake_event_fname) as f:\n",
    "    lines = f.readlines()\n",
    "for line in lines:\n",
    "    print(line)"
   ]
  },
  {
   "cell_type": "code",
   "execution_count": 23,
   "metadata": {},
   "outputs": [
    {
     "name": "stdout",
     "output_type": "stream",
     "text": [
      "Name,Phase,ModelledTime,PickTime,PickError\n",
      "\n",
      "SKR01,P,2014-06-29 18:42:10.563666,-1.0,-1.0\n",
      "\n",
      "SKR01,S,2014-06-29 18:42:10.786861,-1.0,-1.0\n",
      "\n",
      "SKR02,P,2014-06-29 18:42:10.559948,-1.0,-1.0\n",
      "\n",
      "SKR02,S,2014-06-29 18:42:10.779498,-1.0,-1.0\n",
      "\n",
      "SKR03,P,2014-06-29 18:42:10.588904,-1.0,-1.0\n",
      "\n",
      "SKR03,S,2014-06-29 18:42:10.836842,-1.0,-1.0\n",
      "\n",
      "SKR04,P,2014-06-29 18:42:10.604473,-1.0,-1.0\n",
      "\n",
      "SKR04,S,2014-06-29 18:42:10.867673,-1.0,-1.0\n",
      "\n",
      "SKR05,P,2014-06-29 18:42:10.590989,-1.0,-1.0\n",
      "\n",
      "SKR05,S,2014-06-29 18:42:10.840970,-1.0,-1.0\n",
      "\n",
      "SKR06,P,2014-06-29 18:42:10.578686,-1.0,-1.0\n",
      "\n",
      "SKR06,S,2014-06-29 18:42:10.816605,-1.0,-1.0\n",
      "\n",
      "SKR07,P,2014-06-29 18:42:10.562988,-1.0,-1.0\n",
      "\n",
      "SKR07,S,2014-06-29 18:42:10.785517,-1.0,-1.0\n",
      "\n",
      "SKG08,P,2014-06-29 18:42:10.681839,-1.0,-1.0\n",
      "\n",
      "SKG08,S,2014-06-29 18:42:11.020885,-1.0,-1.0\n",
      "\n",
      "SKG09,P,2014-06-29 18:42:10.748490,-1.0,-1.0\n",
      "\n",
      "SKG09,S,2014-06-29 18:42:11.152879,-1.0,-1.0\n",
      "\n",
      "SKG10,P,2014-06-29 18:42:10.764317,-1.0,-1.0\n",
      "\n",
      "SKG10,S,2014-06-29 18:42:11.184223,-1.0,-1.0\n",
      "\n",
      "SKG11,P,2014-06-29 18:42:10.740690,-1.0,-1.0\n",
      "\n",
      "SKG11,S,2014-06-29 18:42:11.137432,-1.0,-1.0\n",
      "\n",
      "SKG12,P,2014-06-29 18:42:10.725075,-1.0,-1.0\n",
      "\n",
      "SKG12,S,2014-06-29 18:42:11.106508,-1.0,-1.0\n",
      "\n",
      "SKG13,P,2014-06-29 18:42:10.614625,-1.0,-1.0\n",
      "\n",
      "SKG13,S,2014-06-29 18:42:10.887777,-1.0,-1.0\n",
      "\n"
     ]
    }
   ],
   "source": [
    "# Show the .stn file, containing station time picks:\n",
    "icequake_stn_fname = \"outputs/runs/icequake/icequake_example_20140629184210336.stn\"\n",
    "with open(icequake_stn_fname) as f:\n",
    "    lines = f.readlines()\n",
    "for line in lines:\n",
    "    print(line)"
   ]
  },
  {
   "cell_type": "code",
   "execution_count": 4,
   "metadata": {},
   "outputs": [
    {
     "data": {
      "text/html": [
       "\n",
       "        <iframe\n",
       "            width=\"800\"\n",
       "            height=\"400\"\n",
       "            src=\"OUTPUTS/RUNS/Icequake/Icequake_example_20140629184210336_EventLocationError.pdf\"\n",
       "            frameborder=\"0\"\n",
       "            allowfullscreen\n",
       "        ></iframe>\n",
       "        "
      ],
      "text/plain": [
       "<IPython.lib.display.IFrame at 0x7f2d400cae48>"
      ]
     },
     "execution_count": 4,
     "metadata": {},
     "output_type": "execute_result"
    }
   ],
   "source": [
    "# Show the coalescence pdf file, containing event origin time and location:\n",
    "icequake_coal_image_fname = \"outputs/runs/icequake/icequake_example_20140629184210336_EventLocationError.pdf\"\n",
    "from IPython.display import IFrame # For plotting pdf\n",
    "IFrame(icequake_coal_image_fname, width=800, height=400) # Plot pdf"
   ]
  },
  {
   "cell_type": "markdown",
   "metadata": {},
   "source": [
    "References:\n",
    "\n",
    "Hudson, T.S., Smith, J., Brisbourne, A.M., and White R.S. (2019). Automated detection of basal icequakes and discrimination from surface crevassing. Annals of Glaciology, 79"
   ]
  }
 ],
 "metadata": {
  "kernelspec": {
   "display_name": "Python 3",
   "language": "python",
   "name": "python3"
  },
  "language_info": {
   "codemirror_mode": {
    "name": "ipython",
    "version": 3
   },
   "file_extension": ".py",
   "mimetype": "text/x-python",
   "name": "python",
   "nbconvert_exporter": "python",
   "pygments_lexer": "ipython3",
   "version": "3.6.7"
  }
 },
 "nbformat": 4,
 "nbformat_minor": 1
}
