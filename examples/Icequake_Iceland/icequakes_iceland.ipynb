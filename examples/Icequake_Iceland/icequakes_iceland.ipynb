{
 "cells": [
  {
   "cell_type": "markdown",
   "metadata": {},
   "source": [
    "# QuakeMigrate example - Icequake detection in Iceland"
   ]
  },
  {
   "cell_type": "markdown",
   "metadata": {},
   "source": [
    "## Overview:"
   ]
  },
  {
   "cell_type": "markdown",
   "metadata": {},
   "source": [
    "This notebook shows how to run QuakeMigrate for icequake detection, using a 2 minute window of continuous seismic data from Hudson et al. (2019). Please refer to this paper for details and justification of the settings used.\n",
    "\n",
    "Here, we detail how to:\n",
    "1. Create travel-time lookup tables for the example seismometer network\n",
    "2. Run the detect stage to coalesce energy through time\n",
    "3. Run the trigger stage to determine events above a threshold value\n",
    "4. Run the locate stage to refine the earthquake location\n",
    "\n",
    "We also include an outline of some of the key outputs."
   ]
  },
  {
   "cell_type": "code",
   "execution_count": null,
   "metadata": {},
   "outputs": [],
   "source": [
    "# Import necessary modules:\n",
    "from pyproj import Proj\n",
    "\n",
    "import pandas as pd\n",
    "\n",
    "import QMigrate.io.data as qdata\n",
    "import QMigrate.io.quakeio as qio\n",
    "import QMigrate.lut.lut as qlut\n",
    "import QMigrate.signal.onset.staltaonset as qonset\n",
    "import QMigrate.signal.pick.gaussianpicker as qpick\n",
    "import QMigrate.signal.scan as qscan\n",
    "import QMigrate.signal.trigger as qtrigger"
   ]
  },
  {
   "cell_type": "code",
   "execution_count": null,
   "metadata": {},
   "outputs": [],
   "source": [
    "# Set i/o paths:\n",
    "station_file = \"./inputs/iceland_stations.txt\"\n",
    "data_in   = \"./inputs/mSEED\"\n",
    "lut_out   = \"./outputs/lut/icequake.LUT\"\n",
    "out_path  = \"./outputs/runs\"\n",
    "run_name  = \"icequake_example\""
   ]
  },
  {
   "cell_type": "markdown",
   "metadata": {},
   "source": [
    "## Create travel-time lookup tables (LUT)"
   ]
  },
  {
   "cell_type": "code",
   "execution_count": null,
   "metadata": {},
   "outputs": [],
   "source": [
    "import QMigrate.lut.create_lut as clut\n",
    "\n",
    "# Read in station information\n",
    "stations = qio.stations(station_file)\n",
    "\n",
    "# Define projections\n",
    "cproj = Proj(\"+proj=longlat +ellps=WGS84 +datum=WGS84 +no_defs\")\n",
    "gproj = Proj(\"+proj=lcc +lon_0=-17.224 +lat_0=64.328 +lat_1=64.32 +lat_2=64.335 +datum=WGS84 +units=m +no_defs\")\n",
    "\n",
    "# Set the parameters for the travel-times lookup table (LUT)\n",
    "# Cell count (x,y,z); cell size (x,y,z in metres)\n",
    "lut = qlut.LUT(ll_corner=[-17.24363934275664, 64.31947715407385, -1390.],\n",
    "               ur_corner=[-17.204348515198255, 64.3365202025144, 1390],\n",
    "               cell_size=[100., 100., 20.], grid_proj=gproj, coord_proj=cproj)\n",
    "\n",
    "# Compute for a homogeneous velocity model\n",
    "vp = 3630\n",
    "vs = 1833\n",
    "clut.compute(lut, stations, method=\"homogeneous\", vp=vp, vs=vs)\n",
    "\n",
    "# Save the LUT\n",
    "lut.save(lut_out)"
   ]
  },
  {
   "cell_type": "markdown",
   "metadata": {},
   "source": [
    "## Coalesce the seismic energy through time"
   ]
  },
  {
   "cell_type": "code",
   "execution_count": null,
   "metadata": {},
   "outputs": [],
   "source": [
    "# Create a new instance of the MSEED class and set path structure\n",
    "data = qdata.Archive(station_file=station_file, archive_path=data_in)\n",
    "data.path_structure(archive_format=\"YEAR/JD/*_STATION_*\")\n",
    "\n",
    "# Create a new instance of Onset object\n",
    "onset = qonset.ClassicSTALTAOnset()\n",
    "onset.p_bp_filter = [10, 125, 4]\n",
    "onset.s_bp_filter = [10, 125, 4]\n",
    "onset.p_onset_win = [0.01, 0.25]\n",
    "onset.s_onset_win = [0.05, 0.5]\n",
    "\n",
    "# Create a new instance of the SeisScan class\n",
    "scan = qscan.QuakeScan(data, lut, onset=onset, output_path=out_path, run_name=run_name)\n",
    "\n",
    "# Set detect parameters\n",
    "scan.sampling_rate = 500\n",
    "scan.time_step = 0.75\n",
    "scan.n_cores = 12\n",
    "\n",
    "# Defining the start and end times \n",
    "starttime = \"2014-06-29T18:41:55.0\"\n",
    "endtime   = \"2014-06-29T18:42:20.0\""
   ]
  },
  {
   "cell_type": "code",
   "execution_count": null,
   "metadata": {
    "scrolled": false
   },
   "outputs": [],
   "source": [
    "# Run the detect stage to find the coalescence of energy through time:\n",
    "scan.detect(starttime, endtime)"
   ]
  },
  {
   "cell_type": "markdown",
   "metadata": {},
   "source": [
    "## Run the trigger stage, to detect and output individual icequakes\n",
    "\n",
    "nb: We can use the same QuakeScan object here because we are not using a different decimation. If running trigger and locate on grids with different levels of decimation, a new QuakeScan object should be created."
   ]
  },
  {
   "cell_type": "code",
   "execution_count": null,
   "metadata": {},
   "outputs": [],
   "source": [
    "trig = qtrigger.Trigger(out_path, run_name, stations)\n",
    "\n",
    "trig.normalise_coalescence = True\n",
    "trig.marginal_window = 2.75\n",
    "trig.minimum_repeat = 6.\n",
    "trig.detection_threshold = 1.8\n",
    "\n",
    "# Run trigger\n",
    "trig.trigger(starttime, endtime, savefig=True)"
   ]
  },
  {
   "cell_type": "markdown",
   "metadata": {},
   "source": [
    "## Run the locate stage, to relocate triggered events on a less decimated grid"
   ]
  },
  {
   "cell_type": "code",
   "execution_count": null,
   "metadata": {},
   "outputs": [],
   "source": [
    "# Create a new instance of PhasePicker object\n",
    "picker = qpick.GaussianPicker(onset=onset)\n",
    "picker.marginal_window = 2.75\n",
    "picker.plot_phase_picks = True\n",
    "\n",
    "# Create a new instance of QuakeScan object\n",
    "scan = qscan.QuakeScan(data, lut, onset=onset, picker=picker,\n",
    "                       output_path=out_path, run_name=run_name, log=True)\n",
    "\n",
    "# Set locate parameters:\n",
    "scan.sampling_rate = 500\n",
    "scan.marginal_window = 2.75\n",
    "scan.n_cores = 12\n",
    "\n",
    "# Turn on plotting features\n",
    "scan.plot_event_summary = True\n",
    "scan.plot_event_video = False\n",
    "scan.write_cut_waveforms = False"
   ]
  },
  {
   "cell_type": "code",
   "execution_count": null,
   "metadata": {
    "scrolled": false
   },
   "outputs": [],
   "source": [
    "# Run the locate stage to determine the location of any triggered events\n",
    "scan.locate(start_time=starttime, end_time=endtime)"
   ]
  },
  {
   "cell_type": "markdown",
   "metadata": {},
   "source": [
    "## Some of the key outputs"
   ]
  },
  {
   "cell_type": "code",
   "execution_count": null,
   "metadata": {},
   "outputs": [],
   "source": [
    "# Show the .event file, containing event origin time and location:\n",
    "icequake_event_fname = \"./outputs/runs/icequake_example/events/20140629184210336000.event\"\n",
    "event_df = pd.read_csv(icequake_event_fname)\n",
    "\n",
    "event_df"
   ]
  },
  {
   "cell_type": "code",
   "execution_count": null,
   "metadata": {},
   "outputs": [],
   "source": [
    "# Show the .picks file, containing station time picks:\n",
    "icequake_pick_fname = \"outputs/runs/icequake_example/picks/20140629184210336000.picks\"\n",
    "pick_df = pd.read_csv(icequake_pick_fname)\n",
    "\n",
    "pick_df"
   ]
  },
  {
   "cell_type": "code",
   "execution_count": null,
   "metadata": {},
   "outputs": [],
   "source": [
    "# Show the coalescence pdf file, containing event origin time and location:\n",
    "icequake_coal_image_fname = \"outputs/runs/icequake_example/summaries/icequake_example_20140629184210336000_EventSummary.pdf\"\n",
    "from IPython.display import IFrame # For plotting pdf\n",
    "IFrame(icequake_coal_image_fname, width=800, height=400) # Plot pdf"
   ]
  },
  {
   "cell_type": "markdown",
   "metadata": {},
   "source": [
    "References:\n",
    "\n",
    "Hudson, T.S., Smith, J., Brisbourne, A.M., and White R.S. (2019). Automated detection of basal icequakes and discrimination from surface crevassing. Annals of Glaciology, 79"
   ]
  }
 ],
 "metadata": {
  "kernelspec": {
   "display_name": "Python 3",
   "language": "python",
   "name": "python3"
  },
  "language_info": {
   "codemirror_mode": {
    "name": "ipython",
    "version": 3
   },
   "file_extension": ".py",
   "mimetype": "text/x-python",
   "name": "python",
   "nbconvert_exporter": "python",
   "pygments_lexer": "ipython3",
   "version": "3.7.3"
  }
 },
 "nbformat": 4,
 "nbformat_minor": 1
}
