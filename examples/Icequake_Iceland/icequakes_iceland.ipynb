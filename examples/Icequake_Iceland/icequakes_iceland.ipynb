{
 "cells": [
  {
   "cell_type": "markdown",
   "metadata": {},
   "source": [
    "# QuakeMigrate example - Icequake detection at the Skeiðarárjökull outlet glacier, Iceland"
   ]
  },
  {
   "cell_type": "markdown",
   "metadata": {},
   "source": [
    "## Overview"
   ]
  },
  {
   "cell_type": "markdown",
   "metadata": {},
   "source": [
    "This notebook contains an example demonstrating how to run QuakeMigrate for icequake detection, using a 2 minute window of continuous seismic data from Hudson et al. (2019). Please refer to this paper for details and justification of the settings used.\n",
    "\n",
    "Here, we detail how to:\n",
    "\n",
    "1. Calculate a travel-time lookup table for the seismometer network and example grid, using a velocity model with homogeneous P- and S-wave velocities.\n",
    "2. Run the detect stage, to continuously migrate and stack phase arrival onset functions at each point in the grid, searching for coherent sources of energy in space and time.\n",
    "3. Run the trigger stage to identify candidate events from the continuous detect output.\n",
    "4. Run the locate stage to calculate refined locations for these candidate events, and provide a range of additional outputs and plots, including robust location uncertainty estimates and phase picks."
   ]
  },
  {
   "cell_type": "code",
   "execution_count": null,
   "metadata": {},
   "outputs": [],
   "source": [
    "import pandas as pd\n",
    "from obspy.core import AttribDict\n",
    "from pyproj import Proj\n",
    "\n",
    "from quakemigrate import QuakeScan, Trigger\n",
    "from quakemigrate.io import Archive, read_stations\n",
    "from quakemigrate.lut import compute_traveltimes\n",
    "from quakemigrate.signal.onsets import STALTAOnset\n",
    "from quakemigrate.signal.pickers import GaussianPicker\n",
    "\n",
    "%matplotlib inline"
   ]
  },
  {
   "cell_type": "code",
   "execution_count": null,
   "metadata": {
    "code_folding": []
   },
   "outputs": [],
   "source": [
    "# --- i/o paths ---\n",
    "station_file = \"./inputs/iceland_stations.txt\"\n",
    "data_in = \"./inputs/mSEED\"\n",
    "lut_out = \"./outputs/lut/icequake.LUT\"\n",
    "run_path = \"./outputs/runs\"\n",
    "run_name = \"icequake_example\""
   ]
  },
  {
   "cell_type": "markdown",
   "metadata": {},
   "source": [
    "## 1. Calculate a travel-time lookup table (LUT)"
   ]
  },
  {
   "cell_type": "code",
   "execution_count": null,
   "metadata": {
    "code_folding": []
   },
   "outputs": [],
   "source": [
    "# --- Read in the station information file ---\n",
    "stations = read_stations(station_file)\n",
    "\n",
    "# --- Define the input and grid projections ---\n",
    "gproj = Proj(proj=\"lcc\", units=\"km\", lon_0=-17.224, lat_0=64.328, lat_1=64.32,\n",
    "             lat_2=64.335, datum=\"WGS84\", ellps=\"WGS84\", no_defs=True)\n",
    "cproj = Proj(proj=\"longlat\", datum=\"WGS84\", ellps=\"WGS84\", no_defs=True)\n",
    "\n",
    "# --- Define the grid specifications ---\n",
    "# The ObsPy AttribDict behaves like a Python dict, but with '.'-style access.\n",
    "grid_spec = AttribDict()\n",
    "grid_spec.ll_corner = [-17.24363934275664, 64.31947715407385, -1.390]\n",
    "grid_spec.ur_corner = [-17.204348515198255, 64.3365202025144, 1.390]\n",
    "grid_spec.node_spacing = [0.1, 0.1, 0.02]\n",
    "grid_spec.grid_proj = gproj\n",
    "grid_spec.coord_proj = cproj\n",
    "\n",
    "# --- Homogeneous LUT generation ---\n",
    "lut = compute_traveltimes(grid_spec, stations, method=\"homogeneous\",\n",
    "                          phases=[\"P\", \"S\"], vp=3.630, vs=1.833, log=True,\n",
    "                          save_file=lut_out)"
   ]
  },
  {
   "cell_type": "markdown",
   "metadata": {},
   "source": [
    "## 2. Run the detect stage: continuously migrate phase arrival onset functions through the grid to search for coalescence peaks in space and time"
   ]
  },
  {
   "cell_type": "code",
   "execution_count": null,
   "metadata": {},
   "outputs": [],
   "source": [
    "# --- Read in station file ---\n",
    "stations = read_stations(station_file)\n",
    "\n",
    "# --- Create new Archive and set path structure ---\n",
    "archive = Archive(archive_path=data_in, stations=stations,\n",
    "                  archive_format=\"YEAR/JD/*_STATION_*\")\n",
    "\n",
    "# --- Create new Onset ---\n",
    "onset = STALTAOnset(position=\"classic\", sampling_rate=500)\n",
    "onset.phases = [\"P\", \"S\"]\n",
    "onset.bandpass_filters = {\n",
    "    \"P\": [10, 125, 4],\n",
    "    \"S\": [10, 125, 4]}\n",
    "onset.sta_lta_windows = {\n",
    "    \"P\": [0.01, 0.25],\n",
    "    \"S\": [0.05, 0.5]}\n",
    "\n",
    "# --- Create new QuakeScan ---\n",
    "scan = QuakeScan(archive, lut, onset=onset, run_path=run_path,\n",
    "                 run_name=run_name, log=True, loglevel=\"info\")\n",
    "\n",
    "# --- Set detect parameters ---\n",
    "scan.timestep = 0.75\n",
    "# NOTE: please increase the thread-count as your system allows; the\n",
    "# core migration routines are compiled against OpenMP, and using\n",
    "# multithreading will ~ linearly speed up the compute time!\n",
    "scan.threads = 1\n",
    "\n",
    "# --- Set time period over which to run detect ---\n",
    "starttime = \"2014-06-29T18:41:55.0\"\n",
    "endtime = \"2014-06-29T18:42:20.0\""
   ]
  },
  {
   "cell_type": "code",
   "execution_count": null,
   "metadata": {
    "scrolled": true
   },
   "outputs": [],
   "source": [
    "# --- Run detect ---\n",
    "scan.detect(starttime, endtime)"
   ]
  },
  {
   "cell_type": "markdown",
   "metadata": {},
   "source": [
    "## 3. Run the trigger stage: identify individual icequakes from the continuous detect output"
   ]
  },
  {
   "cell_type": "code",
   "execution_count": null,
   "metadata": {
    "scrolled": true
   },
   "outputs": [],
   "source": [
    "# --- Create new Trigger ---\n",
    "trig = Trigger(lut, run_path=run_path, run_name=run_name, log=True,\n",
    "               loglevel=\"info\")\n",
    "\n",
    "# --- Set trigger parameters ---\n",
    "trig.marginal_window = 1.\n",
    "trig.min_event_interval = 6.\n",
    "trig.normalise_coalescence = True\n",
    "\n",
    "# --- Static threshold ---\n",
    "trig.threshold_method = \"static\"\n",
    "trig.static_threshold = 1.8\n",
    "\n",
    "# --- Run trigger ---\n",
    "trig.trigger(starttime, endtime, interactive_plot=False)"
   ]
  },
  {
   "cell_type": "markdown",
   "metadata": {},
   "source": [
    "### Show the trigger summary PDF file\n",
    "NOTE: this may not display properly for some OS's / browsers (e.g. Safari on MacOS). If all you see is a grey box, please try opening the notebook in Chrome or Firefox, or open the file directly using a PDF viewer."
   ]
  },
  {
   "cell_type": "code",
   "execution_count": null,
   "metadata": {},
   "outputs": [],
   "source": [
    "# Show the trigger summary pdf file\n",
    "icequake_trigger_summary_image_fname = \"outputs/runs/icequake_example/trigger/summaries/icequake_example_2014_180_Trigger.pdf\"\n",
    "from IPython.display import IFrame  # For plotting pdf\n",
    "IFrame(icequake_trigger_summary_image_fname, width=800, height=450)  # Plot pdf"
   ]
  },
  {
   "cell_type": "markdown",
   "metadata": {},
   "source": [
    "## 4. Run the locate stage: calculate refined locations and location uncertainty estimates\n",
    "\n",
    "Note: Here we create a new onset object, using the \"centred\" STALTAOnset. This produces a more accurate gaussian representation of the phase arrival probability density function, and is less phase-shifted. However, it is much more sensitive to sharp offsets due to instrument spikes etc., and is less flexible in identifying arrivals with different frequency content than the \"classic\" STALTAOnset, so in general that is the better choice to use for detect()."
   ]
  },
  {
   "cell_type": "code",
   "execution_count": null,
   "metadata": {},
   "outputs": [],
   "source": [
    "# --- Create new Onset ---\n",
    "onset = STALTAOnset(position=\"centred\", sampling_rate=500)\n",
    "onset.phases = [\"P\", \"S\"]\n",
    "onset.bandpass_filters = {\n",
    "    \"P\": [10, 125, 4],\n",
    "    \"S\": [10, 125, 4]}\n",
    "onset.sta_lta_windows = {\n",
    "    \"P\": [0.01, 0.25],\n",
    "    \"S\": [0.05, 0.5]}\n",
    "\n",
    "# --- Create new PhasePicker ---\n",
    "picker = GaussianPicker(onset=onset)\n",
    "picker.plot_picks = True\n",
    "\n",
    "# --- Create new QuakeScan ---\n",
    "scan = QuakeScan(archive, lut, onset=onset, picker=picker,\n",
    "                 run_path=run_path, run_name=run_name, log=True,\n",
    "                 loglevel=\"info\")\n",
    "\n",
    "# --- Set locate parameters ---\n",
    "scan.marginal_window = 1.0\n",
    "# NOTE: please increase the thread-count as your system allows; the\n",
    "# core migration routines are compiled against OpenMP, and using\n",
    "# multithreading will ~ linearly speed up the compute time!\n",
    "scan.threads = 1\n",
    "\n",
    "# --- Toggle plotting options ---\n",
    "scan.plot_event_summary = True\n",
    "\n",
    "# --- Toggle writing of waveforms ---\n",
    "scan.write_cut_waveforms = False"
   ]
  },
  {
   "cell_type": "code",
   "execution_count": null,
   "metadata": {
    "scrolled": false
   },
   "outputs": [],
   "source": [
    "# --- Run locate ---\n",
    "scan.locate(starttime=starttime, endtime=endtime)"
   ]
  },
  {
   "cell_type": "markdown",
   "metadata": {},
   "source": [
    "## 5. Some of the key locate outputs"
   ]
  },
  {
   "cell_type": "code",
   "execution_count": null,
   "metadata": {},
   "outputs": [],
   "source": [
    "# Show the .event file, containing event origin time and location:\n",
    "icequake_event_fname = \"./outputs/runs/icequake_example/locate/events/20140629184210336.event\"\n",
    "event_df = pd.read_csv(icequake_event_fname)\n",
    "\n",
    "event_df"
   ]
  },
  {
   "cell_type": "code",
   "execution_count": null,
   "metadata": {},
   "outputs": [],
   "source": [
    "# Show the .picks file, containing station time picks:\n",
    "icequake_pick_fname = \"outputs/runs/icequake_example/locate/picks/20140629184210336.picks\"\n",
    "pick_df = pd.read_csv(icequake_pick_fname)\n",
    "\n",
    "pick_df"
   ]
  },
  {
   "cell_type": "code",
   "execution_count": null,
   "metadata": {
    "scrolled": false
   },
   "outputs": [],
   "source": [
    "# Show the event summary pdf file, containing event origin time and location, a\n",
    "# plot displaying the 3D coalescence image, and a waveform gather showing the\n",
    "# fit of the modelled arrival times to the data:\n",
    "icequake_event_summary_image_fname = \"outputs/runs/icequake_example/locate/summaries/icequake_example_20140629184210336_EventSummary.pdf\"\n",
    "from IPython.display import IFrame # For plotting pdf\n",
    "IFrame(icequake_event_summary_image_fname, width=800, height=550) # Plot pdf\n",
    "\n",
    "# NOTE: this may not display properly for some OS's / browsers (e.g. Safari on\n",
    "# MacOS). If all you see is a grey box, please try opening the notebook in\n",
    "# Chrome or Firefox, or open the file directly using a PDF viewer."
   ]
  },
  {
   "cell_type": "markdown",
   "metadata": {},
   "source": [
    "References:\n",
    "\n",
    "Hudson, T.S., Smith, J., Brisbourne, A.M., and White R.S. (2019). Automated detection of basal icequakes and discrimination from surface crevassing. Annals of Glaciology, 79"
   ]
  }
 ],
 "metadata": {
  "kernelspec": {
   "display_name": "Python 3",
   "language": "python",
   "name": "python3"
  },
  "language_info": {
   "codemirror_mode": {
    "name": "ipython",
    "version": 3
   },
   "file_extension": ".py",
   "mimetype": "text/x-python",
   "name": "python",
   "nbconvert_exporter": "python",
   "pygments_lexer": "ipython3",
   "version": "3.8.6-final"
  },
  "toc": {
   "base_numbering": 1,
   "nav_menu": {},
   "number_sections": true,
   "sideBar": true,
   "skip_h1_title": false,
   "title_cell": "Table of Contents",
   "title_sidebar": "Contents",
   "toc_cell": false,
   "toc_position": {},
   "toc_section_display": true,
   "toc_window_display": false
  }
 },
 "nbformat": 4,
 "nbformat_minor": 1
}