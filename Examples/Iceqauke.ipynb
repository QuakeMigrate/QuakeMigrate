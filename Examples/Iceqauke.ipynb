{
 "cells": [
  {
   "cell_type": "markdown",
   "metadata": {},
   "source": [
    "# QuakeMigrate - Example - Icequake detection"
   ]
  },
  {
   "cell_type": "markdown",
   "metadata": {},
   "source": [
    "## Overview:"
   ]
  },
  {
   "cell_type": "markdown",
   "metadata": {},
   "source": [
    "This notebook shows how to run QuakeMigrate for icequake detection, using a 2 minute window of continuous seismicity from Hudson et al (2019). Please refer to this paper for details and justification of the settings used.\n",
    "\n",
    "Here, we detail how to:\n",
    "1. Create a travel-times lookup table for the example seismometer network\n",
    "2. Run a stage to coalesce energy through time\n",
    "3. Run a trigger stage determining events above a threshold value\n",
    "4. Refine the earthquake location by running locate.\n",
    "4. Outline of some of the key outputs"
   ]
  },
  {
   "cell_type": "markdown",
   "metadata": {},
   "source": [
    "## 1. Create a travel-times lookup table (LUT)"
   ]
  },
  {
   "cell_type": "code",
   "execution_count": 4,
   "metadata": {
    "collapsed": true
   },
   "outputs": [],
   "source": [
    "# Import neccessary modules:\n",
    "import QMigrate.core.model  as cmod   # Velocity model generation functions\n",
    "import QMigrate.signal.scan as cscan  # Detection and location algorithms\n",
    "import QMigrate.io.mseed    as cmseed # MSEED data processing \n",
    "import pandas as pd"
   ]
  },
  {
   "cell_type": "code",
   "execution_count": 7,
   "metadata": {
    "collapsed": true
   },
   "outputs": [],
   "source": [
    "# Set the parameters for the travel-times lookup table (LUT):\n",
    "lut = cmod.LUT(center=[0.0,0.0,0.0], cell_count=[20,20,140], cell_size=[100,100,20], azimuth=0.0) # Create an empty LUT with a centre, cell count (x,y,z) and cell size (x,y,z in metres) specified\n",
    "lut.set_lonlat(-17.224,64.328) # Set the lat and lon of the centre of the LUT\n",
    "lut.lcc_standard_parallels=(64.32,64.335) # Set the LUT standard parallels\n",
    "lut.setproj_wgs84('LCC') # Set the LUT projection\n",
    "STATIONS = pd.read_csv('INPUTS/Stations.txt',delimiter=',') # Read in a file containing the station information\n",
    "lut.set_station(STATIONS.as_matrix(),units='lat_lon_elev') # Set the station parameters for the LUT\n",
    "lut_path = 'OUTPUTS/LUT/Icequake.LUT' # Set the path to save the LUT to\n",
    "v_p_homo_model = 3630\n",
    "v_s_homo_model = 1833"
   ]
  },
  {
   "cell_type": "code",
   "execution_count": 9,
   "metadata": {},
   "outputs": [],
   "source": [
    "# And compute and save the LUT:\n",
    "lut.compute_Homogeous(v_p_homo_model,v_s_homo_model) # Compute for a homogeneous velocity model\n",
    "lut.save(lut_path)"
   ]
  },
  {
   "cell_type": "markdown",
   "metadata": {},
   "source": [
    "## 2. Coalesce the seismic energy through time"
   ]
  },
  {
   "cell_type": "code",
   "execution_count": 10,
   "metadata": {
    "collapsed": true
   },
   "outputs": [],
   "source": [
    "# Read in the continuous seismic data:\n",
    "DATA = cmseed.MSEED(lut_path,HOST_PATH='INPUTS/MSEED/Icequake') # Imports the continuous seismic data in\n",
    "DATA.path_structure(TYPE='YEAR/JD/STATION')"
   ]
  },
  {
   "cell_type": "code",
   "execution_count": 11,
   "metadata": {},
   "outputs": [
    {
     "name": "stdout",
     "output_type": "stream",
     "text": [
      "Path = 'SeisLoc_outputs/RUNS/Icequake', Name = 'Icequake_example'\n"
     ]
    }
   ],
   "source": [
    "# Set the parameters for running the coalescence through time:\n",
    "# Setup the coalescence object:\n",
    "scn = cscan.SeisScan(DATA,lut_path,output_path='OUTPUTS/RUNS/Icequake',output_name='Icequake_example')\n",
    "# Specify key detect/trigger parameters:\n",
    "scn.sample_rate     = 500 # Sampling rate of data, in Hz\n",
    "scn.bp_filter_p1    = [10, 125, 4] # The band-pass filter parameters for the P-phase (10 to 125 Hz, with 4th order corners)\n",
    "scn.bp_filter_s1    = [10, 125, 4] # The band-pass filter parameters for the P-phase (10 to 125 Hz, with 4th order corners)\n",
    "scn.onset_win_p1    = [0.01, 0.25] # Length of the STA and LTA time windows for the P-phase\n",
    "scn.onset_win_s1    = [0.05, 0.5] # Length of the STA and LTA time windows for the S-phase\n",
    "scn.time_step       = 0.75 # The length of the time-step\n",
    "scn.CoalescenceGrid = False\n",
    "scn.Decimate        = [1,1,1] # Decimation factors in x,y,z (no decimation here)\n",
    "scn.NumberOfCores   = 12 # Number of cores/processors to use\n",
    "\n",
    "# Defining the start and end times \n",
    "START = '2014-06-29T18:41:55.0'\n",
    "END   = '2014-06-29T18:42:20.0'"
   ]
  },
  {
   "cell_type": "code",
   "execution_count": 13,
   "metadata": {},
   "outputs": [
    {
     "name": "stdout",
     "output_type": "stream",
     "text": [
      "==============================================================================================================================\n",
      "   SeisLoc - Coalescence Scanning : PATH:SeisLoc_outputs/RUNS/Icequake - NAME:Icequake_example\n",
      "======================================================================\n",
      "   Continious Seismic Processing for 2014-06-29T18:41:55.000000 to 2014-06-29T18:42:20.000000\n",
      "==============================================================================================================================\n",
      "~~~~~~~~~~~~~ Processing - 2014-06-29T18:41:54.350000 to 2014-06-29T18:41:57.750000 ~~~~~~~~~~~~~\n",
      "~~~~~~~~~~~~~ Processing - 2014-06-29T18:41:55.100000 to 2014-06-29T18:41:58.500000 ~~~~~~~~~~~~~\n",
      "~~~~~~~~~~~~~ Processing - 2014-06-29T18:41:55.850000 to 2014-06-29T18:41:59.250000 ~~~~~~~~~~~~~\n",
      "~~~~~~~~~~~~~ Processing - 2014-06-29T18:41:56.600000 to 2014-06-29T18:42:00.000000 ~~~~~~~~~~~~~\n",
      "~~~~~~~~~~~~~ Processing - 2014-06-29T18:41:57.350000 to 2014-06-29T18:42:00.750000 ~~~~~~~~~~~~~\n",
      "~~~~~~~~~~~~~ Processing - 2014-06-29T18:41:58.100000 to 2014-06-29T18:42:01.500000 ~~~~~~~~~~~~~\n",
      "~~~~~~~~~~~~~ Processing - 2014-06-29T18:41:58.850000 to 2014-06-29T18:42:02.250000 ~~~~~~~~~~~~~\n",
      "~~~~~~~~~~~~~ Processing - 2014-06-29T18:41:59.600000 to 2014-06-29T18:42:03.000000 ~~~~~~~~~~~~~\n",
      "~~~~~~~~~~~~~ Processing - 2014-06-29T18:42:00.350000 to 2014-06-29T18:42:03.750000 ~~~~~~~~~~~~~\n",
      "~~~~~~~~~~~~~ Processing - 2014-06-29T18:42:01.100000 to 2014-06-29T18:42:04.500000 ~~~~~~~~~~~~~\n",
      "~~~~~~~~~~~~~ Processing - 2014-06-29T18:42:01.850000 to 2014-06-29T18:42:05.250000 ~~~~~~~~~~~~~\n",
      "~~~~~~~~~~~~~ Processing - 2014-06-29T18:42:02.600000 to 2014-06-29T18:42:06.000000 ~~~~~~~~~~~~~\n",
      "~~~~~~~~~~~~~ Processing - 2014-06-29T18:42:03.350000 to 2014-06-29T18:42:06.750000 ~~~~~~~~~~~~~\n",
      "~~~~~~~~~~~~~ Processing - 2014-06-29T18:42:04.100000 to 2014-06-29T18:42:07.500000 ~~~~~~~~~~~~~\n",
      "~~~~~~~~~~~~~ Processing - 2014-06-29T18:42:04.850000 to 2014-06-29T18:42:08.250000 ~~~~~~~~~~~~~\n",
      "~~~~~~~~~~~~~ Processing - 2014-06-29T18:42:05.600000 to 2014-06-29T18:42:09.000000 ~~~~~~~~~~~~~\n",
      "~~~~~~~~~~~~~ Processing - 2014-06-29T18:42:06.350000 to 2014-06-29T18:42:09.750000 ~~~~~~~~~~~~~\n",
      "~~~~~~~~~~~~~ Processing - 2014-06-29T18:42:07.100000 to 2014-06-29T18:42:10.500000 ~~~~~~~~~~~~~\n",
      "~~~~~~~~~~~~~ Processing - 2014-06-29T18:42:07.850000 to 2014-06-29T18:42:11.250000 ~~~~~~~~~~~~~\n",
      "~~~~~~~~~~~~~ Processing - 2014-06-29T18:42:08.600000 to 2014-06-29T18:42:12.000000 ~~~~~~~~~~~~~\n",
      "~~~~~~~~~~~~~ Processing - 2014-06-29T18:42:09.350000 to 2014-06-29T18:42:12.750000 ~~~~~~~~~~~~~\n",
      "~~~~~~~~~~~~~ Processing - 2014-06-29T18:42:10.100000 to 2014-06-29T18:42:13.500000 ~~~~~~~~~~~~~\n",
      "~~~~~~~~~~~~~ Processing - 2014-06-29T18:42:10.850000 to 2014-06-29T18:42:14.250000 ~~~~~~~~~~~~~\n",
      "~~~~~~~~~~~~~ Processing - 2014-06-29T18:42:11.600000 to 2014-06-29T18:42:15.000000 ~~~~~~~~~~~~~\n",
      "~~~~~~~~~~~~~ Processing - 2014-06-29T18:42:12.350000 to 2014-06-29T18:42:15.750000 ~~~~~~~~~~~~~\n",
      "~~~~~~~~~~~~~ Processing - 2014-06-29T18:42:13.100000 to 2014-06-29T18:42:16.500000 ~~~~~~~~~~~~~\n",
      "~~~~~~~~~~~~~ Processing - 2014-06-29T18:42:13.850000 to 2014-06-29T18:42:17.250000 ~~~~~~~~~~~~~\n",
      "~~~~~~~~~~~~~ Processing - 2014-06-29T18:42:14.600000 to 2014-06-29T18:42:18.000000 ~~~~~~~~~~~~~\n",
      "~~~~~~~~~~~~~ Processing - 2014-06-29T18:42:15.350000 to 2014-06-29T18:42:18.750000 ~~~~~~~~~~~~~\n",
      "~~~~~~~~~~~~~ Processing - 2014-06-29T18:42:16.100000 to 2014-06-29T18:42:19.500000 ~~~~~~~~~~~~~\n",
      "~~~~~~~~~~~~~ Processing - 2014-06-29T18:42:16.850000 to 2014-06-29T18:42:20.250000 ~~~~~~~~~~~~~\n",
      "~~~~~~~~~~~~~ Processing - 2014-06-29T18:42:17.600000 to 2014-06-29T18:42:21.000000 ~~~~~~~~~~~~~\n",
      "~~~~~~~~~~~~~ Processing - 2014-06-29T18:42:18.350000 to 2014-06-29T18:42:21.750000 ~~~~~~~~~~~~~\n"
     ]
    }
   ],
   "source": [
    "# Run SeisLoc to find the coalescence of energy through time:\n",
    "# (Note: Outputs a .scn file with the overall coalesence value for each timestep)\n",
    "scn.Detect(START,END) # Finds the coalescence of energy over the start and end times specified"
   ]
  },
  {
   "cell_type": "markdown",
   "metadata": {},
   "source": [
    "## 3. Run the trigger stage, to detect and output individual icequakes"
   ]
  },
  {
   "cell_type": "code",
   "execution_count": 15,
   "metadata": {
    "collapsed": true
   },
   "outputs": [],
   "source": [
    "# Set any trigger parameters that may be different/additional to the initial coalescence stage:\n",
    "scn.DetectionThreshold    = 1.5 # SNR threshold for the coalescence through time. Will detect an event if the coalescence goes above this for a given timestep\n",
    "scn.MarginalWindow        = 2.75 # The length of the time-step window, + pre and post padding (i.e. 0.75 sec time-step window + 1s padding either side)\n",
    "scn.MinimumRepeat         = 5.0\n",
    "scn.NormalisedCoalescence = True \n",
    "\n",
    "# Various output boolian switches:\n",
    "scn.CoalescenceVideo      = False\n",
    "scn.CoalescenceGrid       = False\n",
    "scn.CoalescencePicture    = True\n",
    "scn.CoalescenceTrace      = False"
   ]
  },
  {
   "cell_type": "code",
   "execution_count": 16,
   "metadata": {},
   "outputs": [
    {
     "name": "stdout",
     "output_type": "stream",
     "text": [
      "SeisLoc_outputs/RUNS/Icequake/Icequake_example.scn\n",
      "--Processing for Event 1 of 1 - 20140629184210336\n",
      "Elapsed time: 3.108747 seconds.\n",
      "\n",
      "Elapsed time: 3.130824 seconds.\n",
      "\n",
      "Creating Seismic Picture\n",
      "Elapsed time: 2.098314 seconds.\n",
      "\n"
     ]
    }
   ],
   "source": [
    "scn.Trigger(START,END)# Triggers events, outputing .event, .stn and .pdf for each event in the directory SeisLoc_outputs/RUNS/Icequake\n",
    "scn.Locate(START,END)"
   ]
  },
  {
   "cell_type": "markdown",
   "metadata": {},
   "source": [
    "## 4. Some of the key outputs"
   ]
  },
  {
   "cell_type": "code",
   "execution_count": 21,
   "metadata": {},
   "outputs": [
    {
     "name": "stdout",
     "output_type": "stream",
     "text": [
      "DT,COA,X,Y,Z,Gaussian_X,Gaussian_Y,Gaussian_Z,Gaussian_ErrX,Gaussian_ErrY,Gaussian_ErrZ,Covariance_X,Covariance_Y,Covariance_Z,Covariance_ErrX,Covariance_ErrY,Covariance_ErrZ\n",
      "\n",
      "2014-06-29 18:42:10.336,1.7339595976510833,-17.222986628219758,64.33023353261483,509.0,-17.222204313905074,64.33008195752763,517.1397962042175,4.869102842007661,6.528671375764944,3.3814495136040805,-17.22153468322658,64.33009261928694,502.62342969754235,91.2981010791098,74.24957087823364,88.3461566409338\n",
      "\n"
     ]
    }
   ],
   "source": [
    "# Show the .event file, containing event origin time and location:\n",
    "icequake_event_fname = \"OUTPUTS/RUNS/Icequake/Icequake_example_20140629184210336.event\"\n",
    "with open(icequake_event_fname) as f:\n",
    "    lines = f.readlines()\n",
    "for line in lines:\n",
    "    print(line)"
   ]
  },
  {
   "cell_type": "code",
   "execution_count": 23,
   "metadata": {},
   "outputs": [
    {
     "name": "stdout",
     "output_type": "stream",
     "text": [
      "Name,Phase,ModelledTime,PickTime,PickError\n",
      "\n",
      "SKR01,P,2014-06-29 18:42:10.563666,-1.0,-1.0\n",
      "\n",
      "SKR01,S,2014-06-29 18:42:10.786861,-1.0,-1.0\n",
      "\n",
      "SKR02,P,2014-06-29 18:42:10.559948,-1.0,-1.0\n",
      "\n",
      "SKR02,S,2014-06-29 18:42:10.779498,-1.0,-1.0\n",
      "\n",
      "SKR03,P,2014-06-29 18:42:10.588904,-1.0,-1.0\n",
      "\n",
      "SKR03,S,2014-06-29 18:42:10.836842,-1.0,-1.0\n",
      "\n",
      "SKR04,P,2014-06-29 18:42:10.604473,-1.0,-1.0\n",
      "\n",
      "SKR04,S,2014-06-29 18:42:10.867673,-1.0,-1.0\n",
      "\n",
      "SKR05,P,2014-06-29 18:42:10.590989,-1.0,-1.0\n",
      "\n",
      "SKR05,S,2014-06-29 18:42:10.840970,-1.0,-1.0\n",
      "\n",
      "SKR06,P,2014-06-29 18:42:10.578686,-1.0,-1.0\n",
      "\n",
      "SKR06,S,2014-06-29 18:42:10.816605,-1.0,-1.0\n",
      "\n",
      "SKR07,P,2014-06-29 18:42:10.562988,-1.0,-1.0\n",
      "\n",
      "SKR07,S,2014-06-29 18:42:10.785517,-1.0,-1.0\n",
      "\n",
      "SKG08,P,2014-06-29 18:42:10.681839,-1.0,-1.0\n",
      "\n",
      "SKG08,S,2014-06-29 18:42:11.020885,-1.0,-1.0\n",
      "\n",
      "SKG09,P,2014-06-29 18:42:10.748490,-1.0,-1.0\n",
      "\n",
      "SKG09,S,2014-06-29 18:42:11.152879,-1.0,-1.0\n",
      "\n",
      "SKG10,P,2014-06-29 18:42:10.764317,-1.0,-1.0\n",
      "\n",
      "SKG10,S,2014-06-29 18:42:11.184223,-1.0,-1.0\n",
      "\n",
      "SKG11,P,2014-06-29 18:42:10.740690,-1.0,-1.0\n",
      "\n",
      "SKG11,S,2014-06-29 18:42:11.137432,-1.0,-1.0\n",
      "\n",
      "SKG12,P,2014-06-29 18:42:10.725075,-1.0,-1.0\n",
      "\n",
      "SKG12,S,2014-06-29 18:42:11.106508,-1.0,-1.0\n",
      "\n",
      "SKG13,P,2014-06-29 18:42:10.614625,-1.0,-1.0\n",
      "\n",
      "SKG13,S,2014-06-29 18:42:10.887777,-1.0,-1.0\n",
      "\n"
     ]
    }
   ],
   "source": [
    "# Show the .stn file, containing station time picks:\n",
    "icequake_stn_fname = \"OUTPUTS/RUNS/Icequake/Icequake_example_20140629184210336.stn\"\n",
    "with open(icequake_stn_fname) as f:\n",
    "    lines = f.readlines()\n",
    "for line in lines:\n",
    "    print(line)"
   ]
  },
  {
   "cell_type": "code",
   "execution_count": 31,
   "metadata": {},
   "outputs": [
    {
     "data": {
      "text/html": [
       "\n",
       "        <iframe\n",
       "            width=\"800\"\n",
       "            height=\"400\"\n",
       "            src=\"SeisLoc_outputs/RUNS/Icequake/Icequake_example_20140629184210336_EventLocationError.pdf\"\n",
       "            frameborder=\"0\"\n",
       "            allowfullscreen\n",
       "        ></iframe>\n",
       "        "
      ],
      "text/plain": [
       "<IPython.lib.display.IFrame at 0x7f2b03b86a58>"
      ]
     },
     "execution_count": 31,
     "metadata": {},
     "output_type": "execute_result"
    }
   ],
   "source": [
    "# Show the coalescence pdf file, containing event origin time and location:\n",
    "icequake_coal_image_fname = \"OUTPUTS/RUNS/Icequake/Icequake_example_20140629184210336_EventLocationError.pdf\"\n",
    "from IPython.display import IFrame # For plotting pdf\n",
    "IFrame(icequake_coal_image_fname, width=800, height=400) # Plot pdf"
   ]
  },
  {
   "cell_type": "markdown",
   "metadata": {},
   "source": [
    "References:\n",
    "\n",
    "Hudson, T.S., Smith, J., Brisbourne, A.M., and White R.S. (2019). Automated detection of basal icequakes and discrimination from surface crevassing. Annals of Glaciology, 79"
   ]
  }
 ],
 "metadata": {
  "kernelspec": {
   "display_name": "Python 2",
   "language": "python",
   "name": "python2"
  },
  "language_info": {
   "codemirror_mode": {
    "name": "ipython",
    "version": 2
   },
   "file_extension": ".py",
   "mimetype": "text/x-python",
   "name": "python",
   "nbconvert_exporter": "python",
   "pygments_lexer": "ipython2",
   "version": "2.7.13"
  }
 },
 "nbformat": 4,
 "nbformat_minor": 1
}
