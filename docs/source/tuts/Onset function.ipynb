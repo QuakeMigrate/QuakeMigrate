{
 "cells": [
  {
   "cell_type": "markdown",
   "metadata": {},
   "source": [
    "# The onset function\n",
    "\n",
    "This tutorial will cover the basic ideas and definitions behind the onset function, as well as showing the user how to create their own.\n",
    "\n",
    "***\n",
    "\n",
    "## Contents\n",
    "* [Onset function definitions](#The-default-Onset-function---STA/LTA)\n",
    "* [Creating an Onset function](#Creating-an-instance-of-the-onset-class)\n",
    "\n",
    "***\n",
    "\n",
    "The onset function is a continuous measure of the probability of a seismic phase onset being observed at a station. It is used to distill simplified waveform information from a continuous recording.\n",
    "\n",
    "We pad each timestep (as defined in sections 2.4 and 2.6) prior to calculation of the onset functions. The pre-pad, defined as the widest LTA window plus three times the widest STA window, and the post-pad, defined as the maximum travel time from any station to a point in the grid plus the widest LTA window, are required to ensure the onset function can be correctly calculated for the first and last samples in the timestep, respectively. An additional term, equal to 0.06 times the padded timestep, is added on either end in order to accommodate the cosine taper that is applied to the data prior to filtering. The data is filtered using a zero-phase Butterworth band-pass filter with user-defined low-pass and high-pass frequencies. For each station, the onset functions for the P- and S-phases are determined from the vertical and horizontal components, respectively.\n",
    "\n"
   ]
  },
  {
   "cell_type": "markdown",
   "metadata": {},
   "source": [
    "## The default Onset function - STA/LTA\n",
    "\n",
    "The basic onset function used in QuakeMigrate is the ratio between the average value in a short-term window to that in a long-term window. A simple mathematical description can be found in Appendix A.\n",
    "\n",
    "The relative positioning of the STA and LTA windows can be chosen from the ‘classic’ (overlapping) or centred configurations.\n",
    "\n",
    "In the ‘classic’ configuration, the STA window is within the LTA window and the ratio is assigned to the end of the windows. This is less sensitive to data with sharp offsets due to instrument failures. This is the default configuration for Detect. In the centred configuration, the STA window is preceded by the LTA window and the ratio is assigned to the end of the LTA window (the start of the STA window). The resultant onset function is less phase-shifted (late) and is, strictly speaking, the form for which the Gaussian approximation described in Drew et al. (2013) is most appropriate. If the data quality allows it, a centred window should be used for Locate. \n",
    "\n",
    "$$O(t) = \\frac{W_{L}\\int_{0}^{Ws} |y(t+\\tau)|d\\tau}{W_{S}\\int_{-W_{L}}^{0} |y(t+\\tau)|d\\tau}$$"
   ]
  },
  {
   "cell_type": "code",
   "execution_count": null,
   "metadata": {},
   "outputs": [],
   "source": []
  },
  {
   "cell_type": "code",
   "execution_count": null,
   "metadata": {},
   "outputs": [],
   "source": [
    "from QMigrate.signal import onset\n",
    "\n",
    "# Create a new instance of Onset object\n",
    "onset = onset.ClassicSTALTAOnset()\n",
    "onset.p_bp_filter = [0.5, 2.49, 2]\n",
    "onset.s_bp_filter = [0.5, 2.49, 2]\n",
    "onset.p_onset_win = [0.2, 1.5]\n",
    "onset.s_onset_win = [0.2, 1.5]"
   ]
  }
 ],
 "metadata": {
  "kernelspec": {
   "display_name": "Python 3",
   "language": "python",
   "name": "python3"
  },
  "language_info": {
   "codemirror_mode": {
    "name": "ipython",
    "version": 3
   },
   "file_extension": ".py",
   "mimetype": "text/x-python",
   "name": "python",
   "nbconvert_exporter": "python",
   "pygments_lexer": "ipython3",
   "version": "3.7.3"
  }
 },
 "nbformat": 4,
 "nbformat_minor": 2
}
