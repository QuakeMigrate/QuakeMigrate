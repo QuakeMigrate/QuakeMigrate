{
 "cells": [
  {
   "cell_type": "markdown",
   "metadata": {},
   "source": [
    "# QuakeMigrate example - Icequake detection at the Rutford icestream"
   ]
  },
  {
   "cell_type": "markdown",
   "metadata": {},
   "source": [
    "## Overview"
   ]
  },
  {
   "cell_type": "markdown",
   "metadata": {},
   "source": [
    "This notebook contains another example showing how to run QuakeMigrate for icequake detection.\n",
    "\n",
    "Here, we detail how to:\n",
    "1. Create travel-time lookup tables for the example seismometer network\n",
    "2. Run the detect stage to coalesce energy through time\n",
    "3. Run the trigger stage to determine events above a threshold value\n",
    "4. Run the locate stage to refine the earthquake location"
   ]
  },
  {
   "cell_type": "code",
   "execution_count": null,
   "metadata": {},
   "outputs": [],
   "source": [
    "import pandas as pd\n",
    "from obspy.core import AttribDict\n",
    "from pyproj import Proj\n",
    "\n",
    "from quakemigrate.io import Archive\n",
    "from quakemigrate.io import read_stations\n",
    "from quakemigrate.lut import compute_traveltimes\n",
    "from quakemigrate.signal import QuakeScan, Trigger\n",
    "from quakemigrate.signal.onsets import STALTAOnset\n",
    "from quakemigrate.signal.pickers import GaussianPicker\n",
    "\n",
    "%matplotlib inline"
   ]
  },
  {
   "cell_type": "code",
   "execution_count": null,
   "metadata": {},
   "outputs": [],
   "source": [
    "# --- i/o paths ---\n",
    "station_file = \"./inputs/rutford_stations.txt\"\n",
    "data_in = \"./inputs/mSEED\"\n",
    "lut_out = \"./outputs/lut/icequake.LUT\"\n",
    "run_path = \"./outputs/runs\"\n",
    "run_name = \"icequake_example\""
   ]
  },
  {
   "cell_type": "markdown",
   "metadata": {},
   "source": [
    "## 1. Create travel-time lookup tables (LUTs)"
   ]
  },
  {
   "cell_type": "code",
   "execution_count": null,
   "metadata": {},
   "outputs": [],
   "source": [
    "# --- Read in the station information file ---\n",
    "stations = read_stations(station_file)\n",
    "\n",
    "# --- Define the input and grid projections ---\n",
    "gproj = Proj(proj=\"lcc\", units=\"km\", lon_0=-83.932, lat_0=-78.144, lat_1=-78.1,\n",
    "             lat_2=-77.9, datum=\"WGS84\", ellps=\"WGS84\", no_defs=True)\n",
    "cproj = Proj(proj=\"longlat\", datum=\"WGS84\", ellps=\"WGS84\", no_defs=True)\n",
    "\n",
    "# --- Define the grid specifications ---\n",
    "# AttribDict behaves like a Python dict, but also has '.'-style access.\n",
    "grid_spec = AttribDict()\n",
    "grid_spec.ll_corner = [-84.14853353566141, -78.18825429331356, -0.350]\n",
    "grid_spec.ur_corner = [-83.71921885073093, -78.10003166259442, 3.550]\n",
    "grid_spec.node_spacing = [0.1, 0.1, 0.1]\n",
    "grid_spec.grid_proj = gproj\n",
    "grid_spec.coord_proj = cproj\n",
    "\n",
    "# --- Homogeneous LUT generation ---\n",
    "lut = compute_traveltimes(grid_spec, stations, method=\"homogeneous\", vp=3.841,\n",
    "                          vs=1.970, log=True, save_file=lut_out)"
   ]
  },
  {
   "cell_type": "markdown",
   "metadata": {},
   "source": [
    "## 2. Coalesce the seismic energy through time"
   ]
  },
  {
   "cell_type": "code",
   "execution_count": null,
   "metadata": {},
   "outputs": [],
   "source": [
    "# --- Read in station file ---\n",
    "stations = read_stations(station_file)\n",
    "\n",
    "# --- Create new Archive and set path structure ---\n",
    "archive = Archive(archive_path=data_in, stations=stations,\n",
    "                  archive_format=\"YEAR/JD/*_STATION_*\")\n",
    "\n",
    "# --- Create new Onset ---\n",
    "onset = STALTAOnset(position=\"classic\")\n",
    "onset.p_bp_filter = [20, 200, 4]\n",
    "onset.s_bp_filter = [10, 125, 4]\n",
    "onset.p_onset_win = [0.01, 0.25]\n",
    "onset.s_onset_win = [0.05, 0.5]\n",
    "\n",
    "# --- Create new QuakeScan ---\n",
    "scan = QuakeScan(archive, lut, onset=onset, run_path=run_path,\n",
    "                 run_name=run_name, log=True)\n",
    "\n",
    "# --- Set detect parameters ---\n",
    "scan.sampling_rate = 1000\n",
    "scan.timestep = 0.75\n",
    "scan.threads = 12\n",
    "\n",
    "# --- Set time period over which to run detect ---\n",
    "starttime = \"2009-01-21T04:00:05.0\"\n",
    "endtime = \"2009-01-21T04:00:15.0\""
   ]
  },
  {
   "cell_type": "code",
   "execution_count": null,
   "metadata": {},
   "outputs": [],
   "source": [
    "# --- Run detect ---\n",
    "scan.detect(starttime, endtime)"
   ]
  },
  {
   "cell_type": "markdown",
   "metadata": {},
   "source": [
    "## 3. Run the trigger stage, to detect and output individual icequakes\n",
    "\n",
    "nb: We can use the same QuakeScan object here because we are not using a different decimation. If running trigger and locate on grids with different levels of decimation, a new QuakeScan object should be created."
   ]
  },
  {
   "cell_type": "code",
   "execution_count": null,
   "metadata": {},
   "outputs": [],
   "source": [
    "# --- Create new Trigger ---\n",
    "trig = Trigger(lut, run_path, run_name)\n",
    "\n",
    "# --- Set trigger parameters ---\n",
    "trig.marginal_window = 0.1\n",
    "trig.min_event_interval = 0.5\n",
    "trig.normalise_coalescence = True\n",
    "\n",
    "# --- Static threshold ---\n",
    "trig.threshold_method = \"static\"\n",
    "trig.static_threshold = 2.75\n",
    "\n",
    "# --- Run trigger ---\n",
    "trig.trigger(starttime, endtime, savefig=True)"
   ]
  },
  {
   "cell_type": "markdown",
   "metadata": {},
   "source": [
    "## 4. Run the locate stage, to relocate triggered events on a less decimated grid"
   ]
  },
  {
   "cell_type": "code",
   "execution_count": null,
   "metadata": {},
   "outputs": [],
   "source": [
    "# --- Create new PhasePicker ---\n",
    "picker = GaussianPicker(onset=onset)\n",
    "picker.marginal_window = 0.1\n",
    "picker.plot_picks = True\n",
    "\n",
    "# --- Create new QuakeScan ---\n",
    "scan = QuakeScan(archive, lut, onset=onset, picker=picker,\n",
    "                 run_path=run_path, run_name=run_name, log=True)\n",
    "\n",
    "# --- Set locate parameters ---\n",
    "scan.marginal_window = 0.1\n",
    "scan.threads = 12\n",
    "scan.sampling_rate = 1000\n",
    "\n",
    "# Turn on plotting features\n",
    "scan.plot_event_summary = True\n",
    "scan.plot_event_video = False\n",
    "\n",
    "# --- Toggle writing of waveforms ---\n",
    "scan.write_cut_waveforms = False"
   ]
  },
  {
   "cell_type": "code",
   "execution_count": null,
   "metadata": {},
   "outputs": [],
   "source": [
    "# --- Run locate ---\n",
    "scan.locate(starttime=starttime, endtime=endtime)"
   ]
  },
  {
   "cell_type": "markdown",
   "metadata": {},
   "source": [
    "## 5. Some of the key outputs"
   ]
  },
  {
   "cell_type": "code",
   "execution_count": null,
   "metadata": {},
   "outputs": [],
   "source": [
    "# Show the .event file, containing event origin time and location:\n",
    "icequake_event_fname = \"./outputs/runs/icequake_example/locate/events/20090121040007151.event\"\n",
    "event_df = pd.read_csv(icequake_event_fname)\n",
    "\n",
    "event_df"
   ]
  },
  {
   "cell_type": "code",
   "execution_count": null,
   "metadata": {},
   "outputs": [],
   "source": [
    "# Show the .picks file, containing station time picks:\n",
    "icequake_pick_fname = \"outputs/runs/icequake_example/locate/picks/20090121040007151.picks\"\n",
    "pick_df = pd.read_csv(icequake_pick_fname)\n",
    "\n",
    "pick_df"
   ]
  },
  {
   "cell_type": "code",
   "execution_count": null,
   "metadata": {},
   "outputs": [],
   "source": [
    "# Show the coalescence pdf file, containing event origin time and location:\n",
    "icequake_coal_image_fname = \"outputs/runs/icequake_example/locate/summaries/icequake_example_20090121040007151_EventSummary.pdf\"\n",
    "from IPython.display import IFrame # For plotting pdf\n",
    "IFrame(icequake_coal_image_fname, width=800, height=400) # Plot pdf"
   ]
  },
  {
   "cell_type": "code",
   "execution_count": null,
   "metadata": {},
   "outputs": [],
   "source": []
  }
 ],
 "metadata": {
  "kernelspec": {
   "display_name": "Python 3",
   "language": "python",
   "name": "python3"
  },
  "language_info": {
   "codemirror_mode": {
    "name": "ipython",
    "version": 3
   },
   "file_extension": ".py",
   "mimetype": "text/x-python",
   "name": "python",
   "nbconvert_exporter": "python",
   "pygments_lexer": "ipython3",
   "version": "3.8.2"
  },
  "toc": {
   "base_numbering": 1,
   "nav_menu": {},
   "number_sections": true,
   "sideBar": true,
   "skip_h1_title": false,
   "title_cell": "Table of Contents",
   "title_sidebar": "Contents",
   "toc_cell": false,
   "toc_position": {},
   "toc_section_display": true,
   "toc_window_display": false
  }
 },
 "nbformat": 4,
 "nbformat_minor": 2
}