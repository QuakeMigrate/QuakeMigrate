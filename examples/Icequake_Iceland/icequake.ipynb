{
 "cells": [
  {
   "cell_type": "markdown",
   "metadata": {},
   "source": [
    "# QuakeMigrate - Example - Icequake detection"
   ]
  },
  {
   "cell_type": "markdown",
   "metadata": {},
   "source": [
    "## Overview:"
   ]
  },
  {
   "cell_type": "markdown",
   "metadata": {},
   "source": [
    "This notebook shows how to run QuakeMigrate for icequake detection, using a 2 minute window of continuous seismic data from Hudson et al (2019). Please refer to this paper for details and justification of the settings used.\n",
    "\n",
    "Here, we detail how to:\n",
    "1. Create a travel-times lookup table for the example seismometer network\n",
    "2. Run the detect stage to coalesce energy through time\n",
    "3. Run the trigger stage to determine events above a threshold value\n",
    "4. Run the locate stage to refine the earthquake location\n",
    "\n",
    "We also provide an outline of some of the key outputs"
   ]
  },
  {
   "cell_type": "code",
   "execution_count": 33,
   "metadata": {},
   "outputs": [],
   "source": [
    "# Import necessary modules:\n",
    "import QMigrate.core.model as qmod\n",
    "import QMigrate.signal.scan as qscan\n",
    "import QMigrate.io.data as qdata\n",
    "import QMigrate.io.quakeio as qio\n",
    "import QMigrate.signal.trigger as qtrigger"
   ]
  },
  {
   "cell_type": "code",
   "execution_count": 34,
   "metadata": {},
   "outputs": [],
   "source": [
    "# Set i/o paths:\n",
    "station_file = \"./inputs/stations.txt\"\n",
    "data_in   = \"./inputs/mSEED\"\n",
    "lut_out   = \"./outputs/lut/icequake.LUT\"\n",
    "out_path  = \"./outputs/runs\"\n",
    "run_name  = \"icequake_example\""
   ]
  },
  {
   "cell_type": "markdown",
   "metadata": {},
   "source": [
    "## 1. Create a travel-times lookup table (LUT)"
   ]
  },
  {
   "cell_type": "code",
   "execution_count": 35,
   "metadata": {},
   "outputs": [],
   "source": [
    "# Read in station information\n",
    "stations = qio.stations(station_file)\n",
    "\n",
    "# Set the parameters for the travel-times lookup table (LUT)\n",
    "# Cell count (x,y,z); cell size (x,y,z in metres)\n",
    "lut = qmod.LUT(stations, cell_count=[20, 20, 140], cell_size=[100, 100, 20])\n",
    "lut.lonlat_centre(-17.224, 64.328)\n",
    "\n",
    "# Set the LUT projection (here we use the Lambert Conformal Conic projection)\n",
    "lut.lcc_standard_parallels = (64.32, 64.335)\n",
    "lut.projections(grid_proj_type=\"LCC\")\n",
    "lut.elevation=1400 # Defining the elevation of the top of the grid in m \n",
    "\n",
    "# Compute for a homogeneous velocity model\n",
    "v_p_homo_model = 3630\n",
    "v_s_homo_model = 1833\n",
    "lut.compute_homogeneous_vmodel(v_p_homo_model, v_s_homo_model)\n",
    "\n",
    "# Save the LUT\n",
    "lut.save(lut_out)"
   ]
  },
  {
   "cell_type": "markdown",
   "metadata": {},
   "source": [
    "## 2. Coalesce the seismic energy through time"
   ]
  },
  {
   "cell_type": "code",
   "execution_count": 37,
   "metadata": {},
   "outputs": [
    {
     "name": "stdout",
     "output_type": "stream",
     "text": [
      "========================================================================================================================\n",
      "========================================================================================================================\n",
      "\tQuakeMigrate - Coalescence Scanning - Path: outputs/runs - Name: icequake_example\n",
      "========================================================================================================================\n",
      "========================================================================================================================\n",
      "\n"
     ]
    }
   ],
   "source": [
    "# Create a new instance of the MSEED class and set path structure\n",
    "data = qdata.Archive(station_file=station_file, archive_path=data_in)\n",
    "data.path_structure(archive_format=\"YEAR/JD/*_STATION_*\")\n",
    "\n",
    "# Create a new instance of the SeisScan class\n",
    "scan = qscan.QuakeScan(data, lut_out, output_path=out_path, run_name=run_name)"
   ]
  },
  {
   "cell_type": "code",
   "execution_count": 38,
   "metadata": {},
   "outputs": [],
   "source": [
    "# Set detect parameters\n",
    "scan.sampling_rate = 500           # Sampling rate of data, in Hz\n",
    "scan.p_bp_filter   = [10, 125, 4]  # The band-pass filter parameters for the P-phase (10 to 125 Hz, with 4th order corners)\n",
    "scan.s_bp_filter   = [10, 125, 4]  # The band-pass filter parameters for the P-phase (10 to 125 Hz, with 4th order corners)\n",
    "scan.p_onset_win   = [0.01, 0.25]  # Length of the STA and LTA time windows for the P-phase\n",
    "scan.s_onset_win   = [0.05, 0.5]   # Length of the STA and LTA time windows for the S-phase\n",
    "scan.time_step     = 0.75          # The length of the time-step\n",
    "scan.decimate      = [1, 1, 1]     # Decimation factors in x,y,z (no decimation here)\n",
    "scan.n_cores       = 12            # Number of cores/processors to use\n",
    "\n",
    "# Defining the start and end times \n",
    "starttime = \"2014-06-29T18:41:55.0\"\n",
    "endtime   = \"2014-06-29T18:42:20.0\""
   ]
  },
  {
   "cell_type": "code",
   "execution_count": 39,
   "metadata": {
    "scrolled": false
   },
   "outputs": [
    {
     "name": "stdout",
     "output_type": "stream",
     "text": [
      "========================================================================================================================\n",
      "\tDETECT - Continuous Seismic Processing\n",
      "========================================================================================================================\n",
      "\n",
      "\tParameters specified:\n",
      "\t\tStart time                = 2014-06-29T18:41:55.000000Z\n",
      "\t\tEnd   time                = 2014-06-29T18:42:20.000000Z\n",
      "\t\tTime step (s)             = 0.75\n",
      "\t\tNumber of CPUs            = 12\n",
      "\n",
      "\t\tSampling rate             = 500\n",
      "\t\tGrid decimation [X, Y, Z] = [1, 1, 1]\n",
      "\t\tBandpass filter P         = [10, 125, 4]\n",
      "\t\tBandpass filter S         = [10, 125, 4]\n",
      "\t\tOnset P [STA, LTA]        = [0.01, 0.25]\n",
      "\t\tOnset S [STA, LTA]        = [0.05, 0.5]\n",
      "\n",
      "========================================================================================================================\n",
      "~~~~~~~~~~~~~~~~~~~~~~~~ Processing : 2014-06-29T18:41:53.350000Z - 2014-06-29T18:42:01.750000Z ~~~~~~~~~~~~~~~~~~~~~~~~\n",
      "    \tElapsed time: 0.575300 seconds.\n",
      "\n",
      "~~~~~~~~~~~~~~~~~~~~~~~~ Processing : 2014-06-29T18:41:54.100000Z - 2014-06-29T18:42:02.500000Z ~~~~~~~~~~~~~~~~~~~~~~~~\n",
      "    \tElapsed time: 0.602198 seconds.\n",
      "\n",
      "~~~~~~~~~~~~~~~~~~~~~~~~ Processing : 2014-06-29T18:41:54.850000Z - 2014-06-29T18:42:03.250000Z ~~~~~~~~~~~~~~~~~~~~~~~~\n",
      "    \tElapsed time: 0.605471 seconds.\n",
      "\n",
      "~~~~~~~~~~~~~~~~~~~~~~~~ Processing : 2014-06-29T18:41:55.600000Z - 2014-06-29T18:42:04.000000Z ~~~~~~~~~~~~~~~~~~~~~~~~\n",
      "    \tElapsed time: 0.677903 seconds.\n",
      "\n",
      "~~~~~~~~~~~~~~~~~~~~~~~~ Processing : 2014-06-29T18:41:56.350000Z - 2014-06-29T18:42:04.750000Z ~~~~~~~~~~~~~~~~~~~~~~~~\n",
      "    \tElapsed time: 0.604550 seconds.\n",
      "\n",
      "~~~~~~~~~~~~~~~~~~~~~~~~ Processing : 2014-06-29T18:41:57.100000Z - 2014-06-29T18:42:05.500000Z ~~~~~~~~~~~~~~~~~~~~~~~~\n",
      "    \tElapsed time: 0.581597 seconds.\n",
      "\n",
      "~~~~~~~~~~~~~~~~~~~~~~~~ Processing : 2014-06-29T18:41:57.850000Z - 2014-06-29T18:42:06.250000Z ~~~~~~~~~~~~~~~~~~~~~~~~\n",
      "    \tElapsed time: 0.575321 seconds.\n",
      "\n",
      "~~~~~~~~~~~~~~~~~~~~~~~~ Processing : 2014-06-29T18:41:58.600000Z - 2014-06-29T18:42:07.000000Z ~~~~~~~~~~~~~~~~~~~~~~~~\n",
      "    \tElapsed time: 0.638564 seconds.\n",
      "\n",
      "~~~~~~~~~~~~~~~~~~~~~~~~ Processing : 2014-06-29T18:41:59.350000Z - 2014-06-29T18:42:07.750000Z ~~~~~~~~~~~~~~~~~~~~~~~~\n",
      "    \tElapsed time: 0.719362 seconds.\n",
      "\n",
      "~~~~~~~~~~~~~~~~~~~~~~~~ Processing : 2014-06-29T18:42:00.100000Z - 2014-06-29T18:42:08.500000Z ~~~~~~~~~~~~~~~~~~~~~~~~\n",
      "    \tElapsed time: 0.698566 seconds.\n",
      "\n",
      "~~~~~~~~~~~~~~~~~~~~~~~~ Processing : 2014-06-29T18:42:00.850000Z - 2014-06-29T18:42:09.250000Z ~~~~~~~~~~~~~~~~~~~~~~~~\n",
      "    \tElapsed time: 0.574530 seconds.\n",
      "\n",
      "~~~~~~~~~~~~~~~~~~~~~~~~ Processing : 2014-06-29T18:42:01.600000Z - 2014-06-29T18:42:10.000000Z ~~~~~~~~~~~~~~~~~~~~~~~~\n",
      "    \tElapsed time: 0.651220 seconds.\n",
      "\n",
      "~~~~~~~~~~~~~~~~~~~~~~~~ Processing : 2014-06-29T18:42:02.350000Z - 2014-06-29T18:42:10.750000Z ~~~~~~~~~~~~~~~~~~~~~~~~\n",
      "    \tElapsed time: 0.586565 seconds.\n",
      "\n",
      "~~~~~~~~~~~~~~~~~~~~~~~~ Processing : 2014-06-29T18:42:03.100000Z - 2014-06-29T18:42:11.500000Z ~~~~~~~~~~~~~~~~~~~~~~~~\n",
      "    \tElapsed time: 0.564010 seconds.\n",
      "\n",
      "~~~~~~~~~~~~~~~~~~~~~~~~ Processing : 2014-06-29T18:42:03.850000Z - 2014-06-29T18:42:12.250000Z ~~~~~~~~~~~~~~~~~~~~~~~~\n",
      "    \tElapsed time: 0.558693 seconds.\n",
      "\n",
      "~~~~~~~~~~~~~~~~~~~~~~~~ Processing : 2014-06-29T18:42:04.600000Z - 2014-06-29T18:42:13.000000Z ~~~~~~~~~~~~~~~~~~~~~~~~\n",
      "    \tElapsed time: 0.574795 seconds.\n",
      "\n",
      "~~~~~~~~~~~~~~~~~~~~~~~~ Processing : 2014-06-29T18:42:05.350000Z - 2014-06-29T18:42:13.750000Z ~~~~~~~~~~~~~~~~~~~~~~~~\n",
      "    \tElapsed time: 0.576511 seconds.\n",
      "\n",
      "~~~~~~~~~~~~~~~~~~~~~~~~ Processing : 2014-06-29T18:42:06.100000Z - 2014-06-29T18:42:14.500000Z ~~~~~~~~~~~~~~~~~~~~~~~~\n",
      "    \tElapsed time: 0.583105 seconds.\n",
      "\n",
      "~~~~~~~~~~~~~~~~~~~~~~~~ Processing : 2014-06-29T18:42:06.850000Z - 2014-06-29T18:42:15.250000Z ~~~~~~~~~~~~~~~~~~~~~~~~\n",
      "    \tElapsed time: 0.606580 seconds.\n",
      "\n",
      "~~~~~~~~~~~~~~~~~~~~~~~~ Processing : 2014-06-29T18:42:07.600000Z - 2014-06-29T18:42:16.000000Z ~~~~~~~~~~~~~~~~~~~~~~~~\n",
      "    \tElapsed time: 0.597287 seconds.\n",
      "\n",
      "~~~~~~~~~~~~~~~~~~~~~~~~ Processing : 2014-06-29T18:42:08.350000Z - 2014-06-29T18:42:16.750000Z ~~~~~~~~~~~~~~~~~~~~~~~~\n",
      "    \tElapsed time: 0.594204 seconds.\n",
      "\n",
      "~~~~~~~~~~~~~~~~~~~~~~~~ Processing : 2014-06-29T18:42:09.100000Z - 2014-06-29T18:42:17.500000Z ~~~~~~~~~~~~~~~~~~~~~~~~\n",
      "    \tElapsed time: 0.576847 seconds.\n",
      "\n",
      "~~~~~~~~~~~~~~~~~~~~~~~~ Processing : 2014-06-29T18:42:09.850000Z - 2014-06-29T18:42:18.250000Z ~~~~~~~~~~~~~~~~~~~~~~~~\n",
      "    \tElapsed time: 0.589916 seconds.\n",
      "\n",
      "~~~~~~~~~~~~~~~~~~~~~~~~ Processing : 2014-06-29T18:42:10.600000Z - 2014-06-29T18:42:19.000000Z ~~~~~~~~~~~~~~~~~~~~~~~~\n",
      "    \tElapsed time: 0.587689 seconds.\n",
      "\n",
      "~~~~~~~~~~~~~~~~~~~~~~~~ Processing : 2014-06-29T18:42:11.350000Z - 2014-06-29T18:42:19.750000Z ~~~~~~~~~~~~~~~~~~~~~~~~\n",
      "    \tElapsed time: 0.587603 seconds.\n",
      "\n",
      "~~~~~~~~~~~~~~~~~~~~~~~~ Processing : 2014-06-29T18:42:12.100000Z - 2014-06-29T18:42:20.500000Z ~~~~~~~~~~~~~~~~~~~~~~~~\n",
      "    \tElapsed time: 0.569330 seconds.\n",
      "\n",
      "~~~~~~~~~~~~~~~~~~~~~~~~ Processing : 2014-06-29T18:42:12.850000Z - 2014-06-29T18:42:21.250000Z ~~~~~~~~~~~~~~~~~~~~~~~~\n",
      "    \tElapsed time: 0.579267 seconds.\n",
      "\n",
      "~~~~~~~~~~~~~~~~~~~~~~~~ Processing : 2014-06-29T18:42:13.600000Z - 2014-06-29T18:42:22.000000Z ~~~~~~~~~~~~~~~~~~~~~~~~\n",
      "    \tElapsed time: 0.577358 seconds.\n",
      "\n",
      "~~~~~~~~~~~~~~~~~~~~~~~~ Processing : 2014-06-29T18:42:14.350000Z - 2014-06-29T18:42:22.750000Z ~~~~~~~~~~~~~~~~~~~~~~~~\n",
      "    \tElapsed time: 0.579075 seconds.\n",
      "\n",
      "~~~~~~~~~~~~~~~~~~~~~~~~ Processing : 2014-06-29T18:42:15.100000Z - 2014-06-29T18:42:23.500000Z ~~~~~~~~~~~~~~~~~~~~~~~~\n",
      "    \tElapsed time: 0.572892 seconds.\n",
      "\n",
      "~~~~~~~~~~~~~~~~~~~~~~~~ Processing : 2014-06-29T18:42:15.850000Z - 2014-06-29T18:42:24.250000Z ~~~~~~~~~~~~~~~~~~~~~~~~\n",
      "    \tElapsed time: 0.616257 seconds.\n",
      "\n",
      "~~~~~~~~~~~~~~~~~~~~~~~~ Processing : 2014-06-29T18:42:16.600000Z - 2014-06-29T18:42:25.000000Z ~~~~~~~~~~~~~~~~~~~~~~~~\n",
      "    \tElapsed time: 0.583676 seconds.\n",
      "\n",
      "~~~~~~~~~~~~~~~~~~~~~~~~ Processing : 2014-06-29T18:42:17.350000Z - 2014-06-29T18:42:25.750000Z ~~~~~~~~~~~~~~~~~~~~~~~~\n",
      "    \tElapsed time: 0.767315 seconds.\n",
      "\n",
      "~~~~~~~~~~~~~~~~~~~~~~~~ Processing : 2014-06-29T18:42:18.100000Z - 2014-06-29T18:42:26.500000Z ~~~~~~~~~~~~~~~~~~~~~~~~\n",
      "    \tElapsed time: 0.757549 seconds.\n",
      "\n",
      "========================================================================================================================\n"
     ]
    }
   ],
   "source": [
    "# Run the detect stage to find the coalescence of energy through time:\n",
    "scan.detect(starttime, endtime)"
   ]
  },
  {
   "cell_type": "markdown",
   "metadata": {},
   "source": [
    "## 3. Run the trigger stage, to detect and output individual icequakes\n",
    "\n",
    "nb: We can use the same SeisScan object here because we are not using a different decimation. If running trigger and locate on grids with different levels of decimation, a new SeisScan object must be initialised."
   ]
  },
  {
   "cell_type": "code",
   "execution_count": 41,
   "metadata": {},
   "outputs": [
    {
     "name": "stdout",
     "output_type": "stream",
     "text": [
      "========================================================================================================================\n",
      "   TRIGGER - Triggering events from coalescence\n",
      "========================================================================================================================\n",
      "\n",
      "   Parameters specified:\n",
      "         Start time                = 2014-06-29T18:41:55.000000Z\n",
      "         End   time                = 2014-06-29T18:42:20.000000Z\n",
      "         Pre/post pad              = 120 s\n",
      "\n",
      "         Detection threshold       = 1.8\n",
      "         Marginal window           = 2.75 s\n",
      "         Minimum repeat            = 6.0 s\n",
      "\n",
      "         Trigger from normalised coalescence - True\n",
      "\n",
      "========================================================================================================================\n",
      "    Reading in scanmseed...\n",
      "\n",
      "\t\tSuccessfully read .scanmseed data from 2014-06-29T18:41:55.000000Z - 2014-06-29T18:42:20.498000Z\n",
      "\n",
      "\tWarning! No scanmseed data found for pre-pad!\n",
      "\tWarning! No scanmseed data found for post-pad!\n",
      "\n",
      "    scanmseed read complete.\n",
      "\n",
      "    Triggering...\n",
      "\tTriggered event 1 of 1\n",
      "\n",
      "\tPlotting triggered events on decimated grid...\n",
      "\t\tSuccessfully read .StationAvailability data from 2014-06-29T18:41:55.000000Z - 2014-06-29T18:42:19.750000Z\n",
      "\n",
      "========================================================================================================================\n"
     ]
    }
   ],
   "source": [
    "trig = qtrigger.Trigger(out_path, run_name, stations)\n",
    "\n",
    "trig.normalise_coalescence = True\n",
    "trig.marginal_window = 2.75\n",
    "trig.minimum_repeat = 6.\n",
    "trig.detection_threshold = 1.8\n",
    "\n",
    "# Run trigger\n",
    "trig.trigger(starttime, endtime, savefig=True)"
   ]
  },
  {
   "cell_type": "markdown",
   "metadata": {},
   "source": [
    "## 4. Run the locate stage, to relocate triggered events on a less decimated grid"
   ]
  },
  {
   "cell_type": "code",
   "execution_count": 42,
   "metadata": {},
   "outputs": [],
   "source": [
    "# Set locate parameters:\n",
    "scan.marginal_window = 2.75\n",
    "\n",
    "# Turn on plotting features\n",
    "scan.plot_coal_video      = False\n",
    "scan.plot_coal_grid       = False\n",
    "scan.plot_coal_picture    = True\n",
    "scan.plot_coal_trace      = False"
   ]
  },
  {
   "cell_type": "code",
   "execution_count": 43,
   "metadata": {},
   "outputs": [
    {
     "name": "stdout",
     "output_type": "stream",
     "text": [
      "========================================================================================================================\n",
      "\tLOCATE - Determining earthquake location and uncertainty\n",
      "========================================================================================================================\n",
      "\n",
      "\tParameters specified:\n",
      "\t\tStart time                = 2014-06-29T18:41:55.000000Z\n",
      "\t\tEnd   time                = 2014-06-29T18:42:20.000000Z\n",
      "\t\tNumber of CPUs            = 12\n",
      "\n",
      "========================================================================================================================\n",
      "\n",
      "========================================================================================================================\n",
      "\tEVENT - 1 of 1 - 20140629184209576000\n",
      "========================================================================================================================\n",
      "\n",
      "\tDetermining event location...\n",
      "\n",
      "\tReading waveform data...\n",
      "    \tElapsed time: 0.122227 seconds.\n",
      "\n",
      "\tComputing 4D coalescence grid...\n",
      "    \tElapsed time: 7.081238 seconds.\n",
      "\n",
      "\tMaking phase picks...\n",
      "    \tElapsed time: 0.028397 seconds.\n",
      "\n",
      "\tDetermining earthquake location and uncertainty...\n",
      "\t\tGridded loc: 10   12   94\n",
      "\t\tSpline  loc: 10.3 11.7 94.0\n",
      "    \tElapsed time: 2.997333 seconds.\n",
      "\n",
      "\tPlotting event summary figure...\n",
      "\t\tLogo not plotting\n",
      "    \tElapsed time: 2.014111 seconds.\n",
      "\n",
      "========================================================================================================================\n",
      "\n"
     ]
    }
   ],
   "source": [
    "# Run the locate stage to determine the location of any triggered events\n",
    "scan.locate(starttime, endtime)"
   ]
  },
  {
   "cell_type": "markdown",
   "metadata": {},
   "source": [
    "## 4. Some of the key outputs"
   ]
  },
  {
   "cell_type": "code",
   "execution_count": 48,
   "metadata": {},
   "outputs": [
    {
     "name": "stdout",
     "output_type": "stream",
     "text": [
      "DT,COA,X,Y,Z,LocalGaussian_X,LocalGaussian_Y,LocalGaussian_Z,LocalGaussian_ErrX,LocalGaussian_ErrY,LocalGaussian_ErrZ,GlobalCovariance_X,GlobalCovariance_Y,GlobalCovariance_Z,GlobalCovariance_ErrX,GlobalCovariance_ErrY,GlobalCovariance_ErrZ\n",
      "\n",
      "2014-06-29T18:42:10.330000Z,1.5194944269355477,-17.22234553106984,64.32997339610299,500.0,-17.220890041926193,64.33017645210302,513.2986894145288,163.7976722561411,183.17135670506303,176.30955167459342,-17.22181919307945,64.33025256921235,502.7027366951547,106.96901290777376,86.88609844488155,118.11844833684806\n",
      "\n"
     ]
    }
   ],
   "source": [
    "# Show the .event file, containing event origin time and location:\n",
    "icequake_event_fname = \"./outputs/runs/icequake_example/events/20140629184210330000.event\"\n",
    "with open(icequake_event_fname) as f:\n",
    "    lines = f.readlines()\n",
    "for line in lines:\n",
    "    print(line)"
   ]
  },
  {
   "cell_type": "code",
   "execution_count": 49,
   "metadata": {},
   "outputs": [
    {
     "name": "stdout",
     "output_type": "stream",
     "text": [
      "Name,Phase,ModelledTime,PickTime,PickError,SNR\n",
      "\n",
      "SKR01,P,2014-06-29T18:42:10.565278Z,2014-06-29T18:42:10.537238Z,0.01290113502982887,2.8512868169316716\n",
      "\n",
      "SKR01,S,2014-06-29T18:42:10.795935Z,2014-06-29T18:42:10.763598Z,0.05396774047398362,2.0951973108967037\n",
      "\n",
      "SKR02,P,2014-06-29T18:42:10.561196Z,2014-06-29T18:42:10.546318Z,0.008994819471905014,2.726206673673068\n",
      "\n",
      "SKR02,S,2014-06-29T18:42:10.787852Z,-1,-1,-1\n",
      "\n",
      "SKR03,P,2014-06-29T18:42:10.589234Z,-1,-1,-1\n",
      "\n",
      "SKR03,S,2014-06-29T18:42:10.843376Z,-1,-1,-1\n",
      "\n",
      "SKR04,P,2014-06-29T18:42:10.604371Z,-1,-1,-1\n",
      "\n",
      "SKR04,S,2014-06-29T18:42:10.873353Z,-1,-1,-1\n",
      "\n",
      "SKR05,P,2014-06-29T18:42:10.591184Z,2014-06-29T18:42:10.598644Z,0.012307307090651028,2.662305896754175\n",
      "\n",
      "SKR05,S,2014-06-29T18:42:10.847238Z,2014-06-29T18:42:10.897377Z,0.05688926610461391,2.0798144094242828\n",
      "\n",
      "SKR06,P,2014-06-29T18:42:10.579875Z,2014-06-29T18:42:10.573207Z,0.007577927477811804,2.513855187574924\n",
      "\n",
      "SKR06,S,2014-06-29T18:42:10.824842Z,2014-06-29T18:42:10.831171Z,0.060531262386360786,2.065660578587307\n",
      "\n",
      "SKR07,P,2014-06-29T18:42:10.564189Z,2014-06-29T18:42:10.564570Z,0.012957437858764855,2.518620667231806\n",
      "\n",
      "SKR07,S,2014-06-29T18:42:10.793778Z,-1,-1,-1\n",
      "\n",
      "SKG08,P,2014-06-29T18:42:10.680575Z,-1,-1,-1\n",
      "\n",
      "SKG08,S,2014-06-29T18:42:11.024264Z,-1,-1,-1\n",
      "\n",
      "SKG09,P,2014-06-29T18:42:10.746257Z,-1,-1,-1\n",
      "\n",
      "SKG09,S,2014-06-29T18:42:11.154340Z,-1,-1,-1\n",
      "\n",
      "SKG10,P,2014-06-29T18:42:10.761936Z,-1,-1,-1\n",
      "\n",
      "SKG10,S,2014-06-29T18:42:11.185390Z,-1,-1,-1\n",
      "\n",
      "SKG11,P,2014-06-29T18:42:10.738718Z,-1,-1,-1\n",
      "\n",
      "SKG11,S,2014-06-29T18:42:11.139408Z,-1,-1,-1\n",
      "\n",
      "SKG12,P,2014-06-29T18:42:10.723374Z,-1,-1,-1\n",
      "\n",
      "SKG12,S,2014-06-29T18:42:11.109023Z,-1,-1,-1\n",
      "\n",
      "SKG13,P,2014-06-29T18:42:10.614514Z,-1,-1,-1\n",
      "\n",
      "SKG13,S,2014-06-29T18:42:10.893439Z,-1,-1,-1\n",
      "\n"
     ]
    }
   ],
   "source": [
    "# Show the .stn file, containing station time picks:\n",
    "icequake_stn_fname = \"outputs/runs/icequake_example/picks/20140629184210330000.picks\"\n",
    "with open(icequake_stn_fname) as f:\n",
    "    lines = f.readlines()\n",
    "for line in lines:\n",
    "    print(line)"
   ]
  },
  {
   "cell_type": "code",
   "execution_count": 50,
   "metadata": {},
   "outputs": [
    {
     "data": {
      "text/html": [
       "\n",
       "        <iframe\n",
       "            width=\"800\"\n",
       "            height=\"400\"\n",
       "            src=\"outputs/runs/icequake_example/summaries/icequake_example_20140629184210330000_EventSummary.pdf\"\n",
       "            frameborder=\"0\"\n",
       "            allowfullscreen\n",
       "        ></iframe>\n",
       "        "
      ],
      "text/plain": [
       "<IPython.lib.display.IFrame at 0x7f21ed5104a8>"
      ]
     },
     "execution_count": 50,
     "metadata": {},
     "output_type": "execute_result"
    }
   ],
   "source": [
    "# Show the coalescence pdf file, containing event origin time and location:\n",
    "icequake_coal_image_fname = \"outputs/runs/icequake_example/summaries/icequake_example_20140629184210330000_EventSummary.pdf\"\n",
    "from IPython.display import IFrame # For plotting pdf\n",
    "IFrame(icequake_coal_image_fname, width=800, height=400) # Plot pdf"
   ]
  },
  {
   "cell_type": "markdown",
   "metadata": {},
   "source": [
    "References:\n",
    "\n",
    "Hudson, T.S., Smith, J., Brisbourne, A.M., and White R.S. (2019). Automated detection of basal icequakes and discrimination from surface crevassing. Annals of Glaciology, 79"
   ]
  }
 ],
 "metadata": {
  "kernelspec": {
   "display_name": "Python 3",
   "language": "python",
   "name": "python3"
  },
  "language_info": {
   "codemirror_mode": {
    "name": "ipython",
    "version": 3
   },
   "file_extension": ".py",
   "mimetype": "text/x-python",
   "name": "python",
   "nbconvert_exporter": "python",
   "pygments_lexer": "ipython3",
   "version": "3.6.7"
  }
 },
 "nbformat": 4,
 "nbformat_minor": 1
}
